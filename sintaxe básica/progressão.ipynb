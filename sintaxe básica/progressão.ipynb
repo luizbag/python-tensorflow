{
 "cells": [
  {
   "cell_type": "code",
   "execution_count": 14,
   "metadata": {},
   "outputs": [],
   "source": [
    "import tensorflow as tf\n",
    "import numpy as np"
   ]
  },
  {
   "cell_type": "code",
   "execution_count": 21,
   "metadata": {},
   "outputs": [
    {
     "data": {
      "text/plain": [
       "array([3.00000000e+00, 9.00000000e+00, 2.70000000e+01, 8.10000000e+01,\n",
       "       2.43000000e+02, 7.29000000e+02, 2.18700000e+03, 6.56100000e+03,\n",
       "       1.96830000e+04, 5.90490000e+04, 1.77147000e+05, 5.31441000e+05,\n",
       "       1.59432300e+06, 4.78296900e+06, 1.43489070e+07, 4.30467210e+07,\n",
       "       1.29140163e+08, 3.87420489e+08, 1.16226147e+09, 3.48678440e+09,\n",
       "       1.04603532e+10, 3.13810596e+10, 9.41431788e+10, 2.82429536e+11,\n",
       "       8.47288609e+11, 2.54186583e+12, 7.62559748e+12, 2.28767925e+13,\n",
       "       6.86303774e+13, 2.05891132e+14, 6.17673396e+14, 1.85302019e+15,\n",
       "       5.55906057e+15, 1.66771817e+16, 5.00315451e+16, 1.50094635e+17,\n",
       "       4.50283906e+17, 1.35085172e+18, 4.05255515e+18, 1.21576655e+19,\n",
       "       3.64729964e+19, 1.09418989e+20, 3.28256967e+20, 9.84770902e+20,\n",
       "       2.95431271e+21, 8.86293812e+21, 2.65888144e+22, 7.97664431e+22,\n",
       "       2.39299329e+23, 7.17897988e+23, 2.15369396e+24, 6.46108189e+24,\n",
       "       1.93832457e+25, 5.81497370e+25, 1.74449211e+26, 5.23347633e+26,\n",
       "       1.57004290e+27, 4.71012870e+27, 1.41303861e+28, 4.23911583e+28,\n",
       "       1.27173475e+29, 3.81520424e+29, 1.14456127e+30, 3.43368382e+30,\n",
       "       1.03010515e+31, 3.09031544e+31, 9.27094631e+31, 2.78128389e+32,\n",
       "       8.34385168e+32, 2.50315550e+33, 7.50946651e+33, 2.25283995e+34,\n",
       "       6.75851986e+34, 2.02755596e+35, 6.08266788e+35, 1.82480036e+36,\n",
       "       5.47440109e+36, 1.64232033e+37, 4.92696098e+37, 1.47808829e+38,\n",
       "       4.43426488e+38, 1.33027946e+39, 3.99083839e+39, 1.19725152e+40,\n",
       "       3.59175455e+40, 1.07752637e+41, 3.23257910e+41, 9.69773730e+41,\n",
       "       2.90932119e+42, 8.72796357e+42, 2.61838907e+43, 7.85516721e+43,\n",
       "       2.35655016e+44, 7.06965049e+44, 2.12089515e+45, 6.36268544e+45,\n",
       "       1.90880563e+46, 5.72641690e+46, 1.71792507e+47, 5.15377521e+47])"
      ]
     },
     "execution_count": 21,
     "metadata": {},
     "output_type": "execute_result"
    }
   ],
   "source": [
    "termos = np.logspace(1, 100, num=100, base=3)\n",
    "termos"
   ]
  },
  {
   "cell_type": "code",
   "execution_count": 8,
   "metadata": {},
   "outputs": [],
   "source": [
    "indices = tf.constant(list(range(1,101)))"
   ]
  },
  {
   "cell_type": "code",
   "execution_count": 22,
   "metadata": {},
   "outputs": [],
   "source": [
    "termos = tf.constant(np.logspace(1, 100, num=100, base=3))"
   ]
  },
  {
   "cell_type": "code",
   "execution_count": 23,
   "metadata": {},
   "outputs": [],
   "source": [
    "soma = tf.reduce_sum(termos)"
   ]
  },
  {
   "cell_type": "code",
   "execution_count": 24,
   "metadata": {},
   "outputs": [
    {
     "name": "stdout",
     "output_type": "stream",
     "text": [
      "7.73066281098017e+47\n"
     ]
    }
   ],
   "source": [
    "with tf.Session() as s:\n",
    "    print(s.run(soma))"
   ]
  }
 ],
 "metadata": {
  "kernelspec": {
   "display_name": "Python 3",
   "language": "python",
   "name": "python3"
  },
  "language_info": {
   "codemirror_mode": {
    "name": "ipython",
    "version": 3
   },
   "file_extension": ".py",
   "mimetype": "text/x-python",
   "name": "python",
   "nbconvert_exporter": "python",
   "pygments_lexer": "ipython3",
   "version": "3.6.8"
  }
 },
 "nbformat": 4,
 "nbformat_minor": 2
}
