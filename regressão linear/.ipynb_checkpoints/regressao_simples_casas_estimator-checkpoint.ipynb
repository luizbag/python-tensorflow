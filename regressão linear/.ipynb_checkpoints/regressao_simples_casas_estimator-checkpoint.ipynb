{
 "cells": [
  {
   "cell_type": "code",
   "execution_count": 1,
   "metadata": {},
   "outputs": [
    {
     "data": {
      "text/html": [
       "<div>\n",
       "<style scoped>\n",
       "    .dataframe tbody tr th:only-of-type {\n",
       "        vertical-align: middle;\n",
       "    }\n",
       "\n",
       "    .dataframe tbody tr th {\n",
       "        vertical-align: top;\n",
       "    }\n",
       "\n",
       "    .dataframe thead th {\n",
       "        text-align: right;\n",
       "    }\n",
       "</style>\n",
       "<table border=\"1\" class=\"dataframe\">\n",
       "  <thead>\n",
       "    <tr style=\"text-align: right;\">\n",
       "      <th></th>\n",
       "      <th>id</th>\n",
       "      <th>date</th>\n",
       "      <th>price</th>\n",
       "      <th>bedrooms</th>\n",
       "      <th>bathrooms</th>\n",
       "      <th>sqft_living</th>\n",
       "      <th>sqft_lot</th>\n",
       "      <th>floors</th>\n",
       "      <th>waterfront</th>\n",
       "      <th>view</th>\n",
       "      <th>...</th>\n",
       "      <th>grade</th>\n",
       "      <th>sqft_above</th>\n",
       "      <th>sqft_basement</th>\n",
       "      <th>yr_built</th>\n",
       "      <th>yr_renovated</th>\n",
       "      <th>zipcode</th>\n",
       "      <th>lat</th>\n",
       "      <th>long</th>\n",
       "      <th>sqft_living15</th>\n",
       "      <th>sqft_lot15</th>\n",
       "    </tr>\n",
       "  </thead>\n",
       "  <tbody>\n",
       "    <tr>\n",
       "      <th>0</th>\n",
       "      <td>7129300520</td>\n",
       "      <td>20141013T000000</td>\n",
       "      <td>221900.0</td>\n",
       "      <td>3</td>\n",
       "      <td>1.00</td>\n",
       "      <td>1180</td>\n",
       "      <td>5650</td>\n",
       "      <td>1.0</td>\n",
       "      <td>0</td>\n",
       "      <td>0</td>\n",
       "      <td>...</td>\n",
       "      <td>7</td>\n",
       "      <td>1180</td>\n",
       "      <td>0</td>\n",
       "      <td>1955</td>\n",
       "      <td>0</td>\n",
       "      <td>98178</td>\n",
       "      <td>47.5112</td>\n",
       "      <td>-122.257</td>\n",
       "      <td>1340</td>\n",
       "      <td>5650</td>\n",
       "    </tr>\n",
       "    <tr>\n",
       "      <th>1</th>\n",
       "      <td>6414100192</td>\n",
       "      <td>20141209T000000</td>\n",
       "      <td>538000.0</td>\n",
       "      <td>3</td>\n",
       "      <td>2.25</td>\n",
       "      <td>2570</td>\n",
       "      <td>7242</td>\n",
       "      <td>2.0</td>\n",
       "      <td>0</td>\n",
       "      <td>0</td>\n",
       "      <td>...</td>\n",
       "      <td>7</td>\n",
       "      <td>2170</td>\n",
       "      <td>400</td>\n",
       "      <td>1951</td>\n",
       "      <td>1991</td>\n",
       "      <td>98125</td>\n",
       "      <td>47.7210</td>\n",
       "      <td>-122.319</td>\n",
       "      <td>1690</td>\n",
       "      <td>7639</td>\n",
       "    </tr>\n",
       "    <tr>\n",
       "      <th>2</th>\n",
       "      <td>5631500400</td>\n",
       "      <td>20150225T000000</td>\n",
       "      <td>180000.0</td>\n",
       "      <td>2</td>\n",
       "      <td>1.00</td>\n",
       "      <td>770</td>\n",
       "      <td>10000</td>\n",
       "      <td>1.0</td>\n",
       "      <td>0</td>\n",
       "      <td>0</td>\n",
       "      <td>...</td>\n",
       "      <td>6</td>\n",
       "      <td>770</td>\n",
       "      <td>0</td>\n",
       "      <td>1933</td>\n",
       "      <td>0</td>\n",
       "      <td>98028</td>\n",
       "      <td>47.7379</td>\n",
       "      <td>-122.233</td>\n",
       "      <td>2720</td>\n",
       "      <td>8062</td>\n",
       "    </tr>\n",
       "    <tr>\n",
       "      <th>3</th>\n",
       "      <td>2487200875</td>\n",
       "      <td>20141209T000000</td>\n",
       "      <td>604000.0</td>\n",
       "      <td>4</td>\n",
       "      <td>3.00</td>\n",
       "      <td>1960</td>\n",
       "      <td>5000</td>\n",
       "      <td>1.0</td>\n",
       "      <td>0</td>\n",
       "      <td>0</td>\n",
       "      <td>...</td>\n",
       "      <td>7</td>\n",
       "      <td>1050</td>\n",
       "      <td>910</td>\n",
       "      <td>1965</td>\n",
       "      <td>0</td>\n",
       "      <td>98136</td>\n",
       "      <td>47.5208</td>\n",
       "      <td>-122.393</td>\n",
       "      <td>1360</td>\n",
       "      <td>5000</td>\n",
       "    </tr>\n",
       "    <tr>\n",
       "      <th>4</th>\n",
       "      <td>1954400510</td>\n",
       "      <td>20150218T000000</td>\n",
       "      <td>510000.0</td>\n",
       "      <td>3</td>\n",
       "      <td>2.00</td>\n",
       "      <td>1680</td>\n",
       "      <td>8080</td>\n",
       "      <td>1.0</td>\n",
       "      <td>0</td>\n",
       "      <td>0</td>\n",
       "      <td>...</td>\n",
       "      <td>8</td>\n",
       "      <td>1680</td>\n",
       "      <td>0</td>\n",
       "      <td>1987</td>\n",
       "      <td>0</td>\n",
       "      <td>98074</td>\n",
       "      <td>47.6168</td>\n",
       "      <td>-122.045</td>\n",
       "      <td>1800</td>\n",
       "      <td>7503</td>\n",
       "    </tr>\n",
       "  </tbody>\n",
       "</table>\n",
       "<p>5 rows × 21 columns</p>\n",
       "</div>"
      ],
      "text/plain": [
       "           id             date     price  bedrooms  bathrooms  sqft_living  \\\n",
       "0  7129300520  20141013T000000  221900.0         3       1.00         1180   \n",
       "1  6414100192  20141209T000000  538000.0         3       2.25         2570   \n",
       "2  5631500400  20150225T000000  180000.0         2       1.00          770   \n",
       "3  2487200875  20141209T000000  604000.0         4       3.00         1960   \n",
       "4  1954400510  20150218T000000  510000.0         3       2.00         1680   \n",
       "\n",
       "   sqft_lot  floors  waterfront  view     ...      grade  sqft_above  \\\n",
       "0      5650     1.0           0     0     ...          7        1180   \n",
       "1      7242     2.0           0     0     ...          7        2170   \n",
       "2     10000     1.0           0     0     ...          6         770   \n",
       "3      5000     1.0           0     0     ...          7        1050   \n",
       "4      8080     1.0           0     0     ...          8        1680   \n",
       "\n",
       "   sqft_basement  yr_built  yr_renovated  zipcode      lat     long  \\\n",
       "0              0      1955             0    98178  47.5112 -122.257   \n",
       "1            400      1951          1991    98125  47.7210 -122.319   \n",
       "2              0      1933             0    98028  47.7379 -122.233   \n",
       "3            910      1965             0    98136  47.5208 -122.393   \n",
       "4              0      1987             0    98074  47.6168 -122.045   \n",
       "\n",
       "   sqft_living15  sqft_lot15  \n",
       "0           1340        5650  \n",
       "1           1690        7639  \n",
       "2           2720        8062  \n",
       "3           1360        5000  \n",
       "4           1800        7503  \n",
       "\n",
       "[5 rows x 21 columns]"
      ]
     },
     "execution_count": 1,
     "metadata": {},
     "output_type": "execute_result"
    }
   ],
   "source": [
    "import pandas as pd\n",
    "base = pd.read_csv('house_prices.csv')\n",
    "base.head()"
   ]
  },
  {
   "cell_type": "code",
   "execution_count": 2,
   "metadata": {},
   "outputs": [
    {
     "data": {
      "text/plain": [
       "(21613, 21)"
      ]
     },
     "execution_count": 2,
     "metadata": {},
     "output_type": "execute_result"
    }
   ],
   "source": [
    "base.shape"
   ]
  },
  {
   "cell_type": "code",
   "execution_count": 3,
   "metadata": {},
   "outputs": [],
   "source": [
    "X = base.iloc[:, 5:6].values\n",
    "y = base.iloc[:, 2:3].values"
   ]
  },
  {
   "cell_type": "code",
   "execution_count": 4,
   "metadata": {},
   "outputs": [
    {
     "data": {
      "text/plain": [
       "array([[1180],\n",
       "       [2570],\n",
       "       [ 770],\n",
       "       ...,\n",
       "       [1020],\n",
       "       [1600],\n",
       "       [1020]])"
      ]
     },
     "execution_count": 4,
     "metadata": {},
     "output_type": "execute_result"
    }
   ],
   "source": [
    "X"
   ]
  },
  {
   "cell_type": "code",
   "execution_count": 5,
   "metadata": {},
   "outputs": [
    {
     "data": {
      "text/plain": [
       "array([[221900.],\n",
       "       [538000.],\n",
       "       [180000.],\n",
       "       ...,\n",
       "       [402101.],\n",
       "       [400000.],\n",
       "       [325000.]])"
      ]
     },
     "execution_count": 5,
     "metadata": {},
     "output_type": "execute_result"
    }
   ],
   "source": [
    "y"
   ]
  },
  {
   "cell_type": "code",
   "execution_count": 6,
   "metadata": {},
   "outputs": [
    {
     "name": "stderr",
     "output_type": "stream",
     "text": [
      "/home/luizbag/anaconda3/envs/tensorflow/lib/python3.6/site-packages/sklearn/utils/validation.py:595: DataConversionWarning: Data with input dtype int64 was converted to float64 by StandardScaler.\n",
      "  warnings.warn(msg, DataConversionWarning)\n",
      "/home/luizbag/anaconda3/envs/tensorflow/lib/python3.6/site-packages/sklearn/utils/validation.py:595: DataConversionWarning: Data with input dtype int64 was converted to float64 by StandardScaler.\n",
      "  warnings.warn(msg, DataConversionWarning)\n"
     ]
    }
   ],
   "source": [
    "from sklearn.preprocessing import StandardScaler\n",
    "scaler_x = StandardScaler()\n",
    "X = scaler_x.fit_transform(X)\n",
    "scaler_y = StandardScaler()\n",
    "y = scaler_y.fit_transform(y)"
   ]
  },
  {
   "cell_type": "code",
   "execution_count": 7,
   "metadata": {},
   "outputs": [
    {
     "data": {
      "text/plain": [
       "array([[-0.97983502],\n",
       "       [ 0.53363434],\n",
       "       [-1.42625404],\n",
       "       ...,\n",
       "       [-1.15404732],\n",
       "       [-0.52252773],\n",
       "       [-1.15404732]])"
      ]
     },
     "execution_count": 7,
     "metadata": {},
     "output_type": "execute_result"
    }
   ],
   "source": [
    "X"
   ]
  },
  {
   "cell_type": "code",
   "execution_count": 8,
   "metadata": {},
   "outputs": [
    {
     "data": {
      "text/plain": [
       "array([[-0.86671733],\n",
       "       [-0.00568792],\n",
       "       [-0.98084935],\n",
       "       ...,\n",
       "       [-0.37586519],\n",
       "       [-0.38158814],\n",
       "       [-0.58588173]])"
      ]
     },
     "execution_count": 8,
     "metadata": {},
     "output_type": "execute_result"
    }
   ],
   "source": [
    "y"
   ]
  },
  {
   "cell_type": "code",
   "execution_count": 9,
   "metadata": {},
   "outputs": [],
   "source": [
    "import tensorflow as tf"
   ]
  },
  {
   "cell_type": "code",
   "execution_count": 10,
   "metadata": {},
   "outputs": [],
   "source": [
    "colunas = [tf.feature_column.numeric_column('x', shape = [1])]"
   ]
  },
  {
   "cell_type": "code",
   "execution_count": 11,
   "metadata": {},
   "outputs": [
    {
     "data": {
      "text/plain": [
       "[_NumericColumn(key='x', shape=(1,), default_value=None, dtype=tf.float32, normalizer_fn=None)]"
      ]
     },
     "execution_count": 11,
     "metadata": {},
     "output_type": "execute_result"
    }
   ],
   "source": [
    "colunas"
   ]
  },
  {
   "cell_type": "code",
   "execution_count": 12,
   "metadata": {},
   "outputs": [
    {
     "name": "stdout",
     "output_type": "stream",
     "text": [
      "INFO:tensorflow:Using default config.\n",
      "WARNING:tensorflow:Using temporary folder as model directory: /tmp/tmpbhc_e2o2\n",
      "INFO:tensorflow:Using config: {'_model_dir': '/tmp/tmpbhc_e2o2', '_tf_random_seed': None, '_save_summary_steps': 100, '_save_checkpoints_steps': None, '_save_checkpoints_secs': 600, '_session_config': allow_soft_placement: true\n",
      "graph_options {\n",
      "  rewrite_options {\n",
      "    meta_optimizer_iterations: ONE\n",
      "  }\n",
      "}\n",
      ", '_keep_checkpoint_max': 5, '_keep_checkpoint_every_n_hours': 10000, '_log_step_count_steps': 100, '_train_distribute': None, '_device_fn': None, '_protocol': None, '_eval_distribute': None, '_experimental_distribute': None, '_service': None, '_cluster_spec': <tensorflow.python.training.server_lib.ClusterSpec object at 0x7fee94d8df28>, '_task_type': 'worker', '_task_id': 0, '_global_id_in_cluster': 0, '_master': '', '_evaluation_master': '', '_is_chief': True, '_num_ps_replicas': 0, '_num_worker_replicas': 1}\n"
     ]
    }
   ],
   "source": [
    "regressor = tf.estimator.LinearRegressor(feature_columns=colunas)"
   ]
  },
  {
   "cell_type": "code",
   "execution_count": 13,
   "metadata": {},
   "outputs": [],
   "source": [
    "from sklearn.model_selection import train_test_split\n",
    "X_treinamento, X_teste, y_treinamento, y_teste = train_test_split(X, y, test_size = 0.3)"
   ]
  },
  {
   "cell_type": "code",
   "execution_count": 14,
   "metadata": {},
   "outputs": [
    {
     "data": {
      "text/plain": [
       "(15129, 1)"
      ]
     },
     "execution_count": 14,
     "metadata": {},
     "output_type": "execute_result"
    }
   ],
   "source": [
    "X_treinamento.shape"
   ]
  },
  {
   "cell_type": "code",
   "execution_count": 15,
   "metadata": {},
   "outputs": [
    {
     "data": {
      "text/plain": [
       "(15129, 1)"
      ]
     },
     "execution_count": 15,
     "metadata": {},
     "output_type": "execute_result"
    }
   ],
   "source": [
    "y_treinamento.shape"
   ]
  },
  {
   "cell_type": "code",
   "execution_count": 16,
   "metadata": {},
   "outputs": [
    {
     "data": {
      "text/plain": [
       "(6484, 1)"
      ]
     },
     "execution_count": 16,
     "metadata": {},
     "output_type": "execute_result"
    }
   ],
   "source": [
    "X_teste.shape"
   ]
  },
  {
   "cell_type": "code",
   "execution_count": 17,
   "metadata": {},
   "outputs": [
    {
     "data": {
      "text/plain": [
       "(6484, 1)"
      ]
     },
     "execution_count": 17,
     "metadata": {},
     "output_type": "execute_result"
    }
   ],
   "source": [
    "y_teste.shape"
   ]
  },
  {
   "cell_type": "code",
   "execution_count": 18,
   "metadata": {},
   "outputs": [],
   "source": [
    "funcao_treinamento = tf.estimator.inputs.numpy_input_fn({'x': X_treinamento}, y_treinamento,\n",
    "                                                        batch_size = 32, num_epochs = None, \n",
    "                                                        shuffle = True)"
   ]
  },
  {
   "cell_type": "code",
   "execution_count": 19,
   "metadata": {},
   "outputs": [],
   "source": [
    "funcao_teste = tf.estimator.inputs.numpy_input_fn({'x': X_teste}, y_teste, batch_size = 32, \n",
    "                                                  num_epochs = 1000, shuffle = False)"
   ]
  },
  {
   "cell_type": "code",
   "execution_count": 20,
   "metadata": {},
   "outputs": [
    {
     "name": "stdout",
     "output_type": "stream",
     "text": [
      "WARNING:tensorflow:From /home/luizbag/anaconda3/envs/tensorflow/lib/python3.6/site-packages/tensorflow/python/estimator/inputs/queues/feeding_queue_runner.py:62: QueueRunner.__init__ (from tensorflow.python.training.queue_runner_impl) is deprecated and will be removed in a future version.\n",
      "Instructions for updating:\n",
      "To construct input pipelines, use the `tf.data` module.\n",
      "WARNING:tensorflow:From /home/luizbag/anaconda3/envs/tensorflow/lib/python3.6/site-packages/tensorflow/python/estimator/inputs/queues/feeding_functions.py:500: add_queue_runner (from tensorflow.python.training.queue_runner_impl) is deprecated and will be removed in a future version.\n",
      "Instructions for updating:\n",
      "To construct input pipelines, use the `tf.data` module.\n",
      "INFO:tensorflow:Calling model_fn.\n",
      "INFO:tensorflow:Done calling model_fn.\n",
      "INFO:tensorflow:Create CheckpointSaverHook.\n",
      "INFO:tensorflow:Graph was finalized.\n",
      "INFO:tensorflow:Running local_init_op.\n",
      "INFO:tensorflow:Done running local_init_op.\n",
      "WARNING:tensorflow:From /home/luizbag/anaconda3/envs/tensorflow/lib/python3.6/site-packages/tensorflow/python/training/monitored_session.py:804: start_queue_runners (from tensorflow.python.training.queue_runner_impl) is deprecated and will be removed in a future version.\n",
      "Instructions for updating:\n",
      "To construct input pipelines, use the `tf.data` module.\n",
      "INFO:tensorflow:Saving checkpoints for 0 into /tmp/tmpbhc_e2o2/model.ckpt.\n",
      "INFO:tensorflow:loss = 11.453217, step = 1\n",
      "INFO:tensorflow:global_step/sec: 208.053\n",
      "INFO:tensorflow:loss = 14.864521, step = 101 (0.485 sec)\n",
      "INFO:tensorflow:global_step/sec: 590.582\n",
      "INFO:tensorflow:loss = 11.213873, step = 201 (0.166 sec)\n",
      "INFO:tensorflow:global_step/sec: 785.128\n",
      "INFO:tensorflow:loss = 11.98968, step = 301 (0.128 sec)\n",
      "INFO:tensorflow:global_step/sec: 718.609\n",
      "INFO:tensorflow:loss = 10.418186, step = 401 (0.139 sec)\n",
      "INFO:tensorflow:global_step/sec: 694.097\n",
      "INFO:tensorflow:loss = 36.881615, step = 501 (0.147 sec)\n",
      "INFO:tensorflow:global_step/sec: 763.578\n",
      "INFO:tensorflow:loss = 19.54251, step = 601 (0.132 sec)\n",
      "INFO:tensorflow:global_step/sec: 778.064\n",
      "INFO:tensorflow:loss = 33.933765, step = 701 (0.125 sec)\n",
      "INFO:tensorflow:global_step/sec: 680.053\n",
      "INFO:tensorflow:loss = 15.763405, step = 801 (0.147 sec)\n",
      "INFO:tensorflow:global_step/sec: 622.275\n",
      "INFO:tensorflow:loss = 16.242037, step = 901 (0.164 sec)\n",
      "INFO:tensorflow:global_step/sec: 595.844\n",
      "INFO:tensorflow:loss = 11.872393, step = 1001 (0.164 sec)\n",
      "INFO:tensorflow:global_step/sec: 617.729\n",
      "INFO:tensorflow:loss = 23.265097, step = 1101 (0.161 sec)\n",
      "INFO:tensorflow:global_step/sec: 664.017\n",
      "INFO:tensorflow:loss = 12.536863, step = 1201 (0.151 sec)\n",
      "INFO:tensorflow:global_step/sec: 685.028\n",
      "INFO:tensorflow:loss = 9.595049, step = 1301 (0.146 sec)\n",
      "INFO:tensorflow:global_step/sec: 759.257\n",
      "INFO:tensorflow:loss = 8.758121, step = 1401 (0.133 sec)\n",
      "INFO:tensorflow:global_step/sec: 744.176\n",
      "INFO:tensorflow:loss = 11.950239, step = 1501 (0.133 sec)\n",
      "INFO:tensorflow:global_step/sec: 748.663\n",
      "INFO:tensorflow:loss = 27.472656, step = 1601 (0.133 sec)\n",
      "INFO:tensorflow:global_step/sec: 809.091\n",
      "INFO:tensorflow:loss = 17.1196, step = 1701 (0.123 sec)\n",
      "INFO:tensorflow:global_step/sec: 844.482\n",
      "INFO:tensorflow:loss = 8.272712, step = 1801 (0.119 sec)\n",
      "INFO:tensorflow:global_step/sec: 779.056\n",
      "INFO:tensorflow:loss = 9.558266, step = 1901 (0.129 sec)\n",
      "INFO:tensorflow:global_step/sec: 653.013\n",
      "INFO:tensorflow:loss = 24.636005, step = 2001 (0.153 sec)\n",
      "INFO:tensorflow:global_step/sec: 748.658\n",
      "INFO:tensorflow:loss = 41.17908, step = 2101 (0.133 sec)\n",
      "INFO:tensorflow:global_step/sec: 763.192\n",
      "INFO:tensorflow:loss = 7.725984, step = 2201 (0.132 sec)\n",
      "INFO:tensorflow:global_step/sec: 647.778\n",
      "INFO:tensorflow:loss = 10.117996, step = 2301 (0.152 sec)\n",
      "INFO:tensorflow:global_step/sec: 841.01\n",
      "INFO:tensorflow:loss = 11.175815, step = 2401 (0.120 sec)\n",
      "INFO:tensorflow:global_step/sec: 776.381\n",
      "INFO:tensorflow:loss = 36.736, step = 2501 (0.129 sec)\n",
      "INFO:tensorflow:global_step/sec: 728.645\n",
      "INFO:tensorflow:loss = 15.179078, step = 2601 (0.139 sec)\n",
      "INFO:tensorflow:global_step/sec: 716.381\n",
      "INFO:tensorflow:loss = 12.248019, step = 2701 (0.137 sec)\n",
      "INFO:tensorflow:global_step/sec: 774.081\n",
      "INFO:tensorflow:loss = 9.892365, step = 2801 (0.131 sec)\n",
      "INFO:tensorflow:global_step/sec: 758.037\n",
      "INFO:tensorflow:loss = 91.45678, step = 2901 (0.130 sec)\n",
      "INFO:tensorflow:global_step/sec: 757.965\n",
      "INFO:tensorflow:loss = 25.221107, step = 3001 (0.134 sec)\n",
      "INFO:tensorflow:global_step/sec: 773.883\n",
      "INFO:tensorflow:loss = 11.826703, step = 3101 (0.129 sec)\n",
      "INFO:tensorflow:global_step/sec: 789.446\n",
      "INFO:tensorflow:loss = 9.76408, step = 3201 (0.126 sec)\n",
      "INFO:tensorflow:global_step/sec: 802.091\n",
      "INFO:tensorflow:loss = 12.409256, step = 3301 (0.125 sec)\n",
      "INFO:tensorflow:global_step/sec: 820.909\n",
      "INFO:tensorflow:loss = 12.4504175, step = 3401 (0.126 sec)\n",
      "INFO:tensorflow:global_step/sec: 703.049\n",
      "INFO:tensorflow:loss = 15.412009, step = 3501 (0.138 sec)\n",
      "INFO:tensorflow:global_step/sec: 638.803\n",
      "INFO:tensorflow:loss = 25.38004, step = 3601 (0.156 sec)\n",
      "INFO:tensorflow:global_step/sec: 738.338\n",
      "INFO:tensorflow:loss = 85.224495, step = 3701 (0.135 sec)\n",
      "INFO:tensorflow:global_step/sec: 789.769\n",
      "INFO:tensorflow:loss = 12.612845, step = 3801 (0.126 sec)\n",
      "INFO:tensorflow:global_step/sec: 720.344\n",
      "INFO:tensorflow:loss = 20.072762, step = 3901 (0.140 sec)\n",
      "INFO:tensorflow:global_step/sec: 776.352\n",
      "INFO:tensorflow:loss = 6.7654467, step = 4001 (0.128 sec)\n",
      "INFO:tensorflow:global_step/sec: 755.281\n",
      "INFO:tensorflow:loss = 22.479162, step = 4101 (0.134 sec)\n",
      "INFO:tensorflow:global_step/sec: 755.352\n",
      "INFO:tensorflow:loss = 11.995422, step = 4201 (0.131 sec)\n",
      "INFO:tensorflow:global_step/sec: 826.207\n",
      "INFO:tensorflow:loss = 9.72477, step = 4301 (0.122 sec)\n",
      "INFO:tensorflow:global_step/sec: 828.107\n",
      "INFO:tensorflow:loss = 7.5137725, step = 4401 (0.122 sec)\n",
      "INFO:tensorflow:global_step/sec: 725.176\n",
      "INFO:tensorflow:loss = 13.334523, step = 4501 (0.135 sec)\n",
      "INFO:tensorflow:global_step/sec: 821.496\n",
      "INFO:tensorflow:loss = 8.582731, step = 4601 (0.123 sec)\n",
      "INFO:tensorflow:global_step/sec: 828.866\n",
      "INFO:tensorflow:loss = 14.590097, step = 4701 (0.119 sec)\n",
      "INFO:tensorflow:global_step/sec: 739.041\n",
      "INFO:tensorflow:loss = 83.78796, step = 4801 (0.140 sec)\n",
      "INFO:tensorflow:global_step/sec: 763.863\n",
      "INFO:tensorflow:loss = 10.082868, step = 4901 (0.127 sec)\n",
      "INFO:tensorflow:global_step/sec: 818.61\n",
      "INFO:tensorflow:loss = 50.4283, step = 5001 (0.122 sec)\n",
      "INFO:tensorflow:global_step/sec: 793.928\n",
      "INFO:tensorflow:loss = 24.99747, step = 5101 (0.127 sec)\n",
      "INFO:tensorflow:global_step/sec: 821.06\n",
      "INFO:tensorflow:loss = 24.168991, step = 5201 (0.122 sec)\n",
      "INFO:tensorflow:global_step/sec: 782.258\n",
      "INFO:tensorflow:loss = 8.127443, step = 5301 (0.127 sec)\n",
      "INFO:tensorflow:global_step/sec: 849.667\n",
      "INFO:tensorflow:loss = 14.331039, step = 5401 (0.120 sec)\n",
      "INFO:tensorflow:global_step/sec: 829.497\n",
      "INFO:tensorflow:loss = 7.273734, step = 5501 (0.122 sec)\n",
      "INFO:tensorflow:global_step/sec: 715.877\n",
      "INFO:tensorflow:loss = 7.3900976, step = 5601 (0.136 sec)\n",
      "INFO:tensorflow:global_step/sec: 784.497\n",
      "INFO:tensorflow:loss = 23.790445, step = 5701 (0.127 sec)\n",
      "INFO:tensorflow:global_step/sec: 890.374\n",
      "INFO:tensorflow:loss = 11.450543, step = 5801 (0.113 sec)\n",
      "INFO:tensorflow:global_step/sec: 862.843\n",
      "INFO:tensorflow:loss = 10.995361, step = 5901 (0.116 sec)\n",
      "INFO:tensorflow:global_step/sec: 756.638\n",
      "INFO:tensorflow:loss = 6.5365887, step = 6001 (0.136 sec)\n",
      "INFO:tensorflow:global_step/sec: 853.519\n",
      "INFO:tensorflow:loss = 13.148088, step = 6101 (0.114 sec)\n",
      "INFO:tensorflow:global_step/sec: 813.256\n",
      "INFO:tensorflow:loss = 12.464292, step = 6201 (0.123 sec)\n",
      "INFO:tensorflow:global_step/sec: 742.117\n",
      "INFO:tensorflow:loss = 13.254689, step = 6301 (0.134 sec)\n",
      "INFO:tensorflow:global_step/sec: 823.399\n",
      "INFO:tensorflow:loss = 13.936926, step = 6401 (0.122 sec)\n",
      "INFO:tensorflow:global_step/sec: 841.402\n",
      "INFO:tensorflow:loss = 12.932731, step = 6501 (0.119 sec)\n",
      "INFO:tensorflow:global_step/sec: 764.143\n",
      "INFO:tensorflow:loss = 10.865664, step = 6601 (0.131 sec)\n",
      "INFO:tensorflow:global_step/sec: 767.645\n",
      "INFO:tensorflow:loss = 14.083155, step = 6701 (0.131 sec)\n",
      "INFO:tensorflow:global_step/sec: 793.489\n",
      "INFO:tensorflow:loss = 12.0888405, step = 6801 (0.128 sec)\n",
      "INFO:tensorflow:global_step/sec: 435.801\n",
      "INFO:tensorflow:loss = 7.5690575, step = 6901 (0.227 sec)\n"
     ]
    },
    {
     "name": "stdout",
     "output_type": "stream",
     "text": [
      "INFO:tensorflow:global_step/sec: 505.319\n",
      "INFO:tensorflow:loss = 7.810293, step = 7001 (0.199 sec)\n",
      "INFO:tensorflow:global_step/sec: 665.282\n",
      "INFO:tensorflow:loss = 6.346388, step = 7101 (0.153 sec)\n",
      "INFO:tensorflow:global_step/sec: 519.282\n",
      "INFO:tensorflow:loss = 13.278568, step = 7201 (0.188 sec)\n",
      "INFO:tensorflow:global_step/sec: 577.983\n",
      "INFO:tensorflow:loss = 63.6668, step = 7301 (0.173 sec)\n",
      "INFO:tensorflow:global_step/sec: 518.345\n",
      "INFO:tensorflow:loss = 10.628365, step = 7401 (0.194 sec)\n",
      "INFO:tensorflow:global_step/sec: 771.348\n",
      "INFO:tensorflow:loss = 5.580892, step = 7501 (0.129 sec)\n",
      "INFO:tensorflow:global_step/sec: 885.94\n",
      "INFO:tensorflow:loss = 11.346863, step = 7601 (0.113 sec)\n",
      "INFO:tensorflow:global_step/sec: 794.257\n",
      "INFO:tensorflow:loss = 4.748639, step = 7701 (0.126 sec)\n",
      "INFO:tensorflow:global_step/sec: 924.776\n",
      "INFO:tensorflow:loss = 7.7821474, step = 7801 (0.106 sec)\n",
      "INFO:tensorflow:global_step/sec: 642.108\n",
      "INFO:tensorflow:loss = 9.376354, step = 7901 (0.156 sec)\n",
      "INFO:tensorflow:global_step/sec: 781.16\n",
      "INFO:tensorflow:loss = 33.413742, step = 8001 (0.129 sec)\n",
      "INFO:tensorflow:global_step/sec: 800.629\n",
      "INFO:tensorflow:loss = 19.638344, step = 8101 (0.126 sec)\n",
      "INFO:tensorflow:global_step/sec: 778.887\n",
      "INFO:tensorflow:loss = 6.0405273, step = 8201 (0.130 sec)\n",
      "INFO:tensorflow:global_step/sec: 780.398\n",
      "INFO:tensorflow:loss = 17.85963, step = 8301 (0.125 sec)\n",
      "INFO:tensorflow:global_step/sec: 729.89\n",
      "INFO:tensorflow:loss = 13.914631, step = 8401 (0.138 sec)\n",
      "INFO:tensorflow:global_step/sec: 641.933\n",
      "INFO:tensorflow:loss = 22.33818, step = 8501 (0.155 sec)\n",
      "INFO:tensorflow:global_step/sec: 637.293\n",
      "INFO:tensorflow:loss = 7.9204364, step = 8601 (0.158 sec)\n",
      "INFO:tensorflow:global_step/sec: 817.004\n",
      "INFO:tensorflow:loss = 16.820045, step = 8701 (0.121 sec)\n",
      "INFO:tensorflow:global_step/sec: 857.307\n",
      "INFO:tensorflow:loss = 42.26169, step = 8801 (0.118 sec)\n",
      "INFO:tensorflow:global_step/sec: 812.56\n",
      "INFO:tensorflow:loss = 13.7186775, step = 8901 (0.122 sec)\n",
      "INFO:tensorflow:global_step/sec: 785.889\n",
      "INFO:tensorflow:loss = 12.83721, step = 9001 (0.129 sec)\n",
      "INFO:tensorflow:global_step/sec: 579.666\n",
      "INFO:tensorflow:loss = 15.266825, step = 9101 (0.171 sec)\n",
      "INFO:tensorflow:global_step/sec: 766.984\n",
      "INFO:tensorflow:loss = 8.763767, step = 9201 (0.138 sec)\n",
      "INFO:tensorflow:global_step/sec: 792.874\n",
      "INFO:tensorflow:loss = 15.362762, step = 9301 (0.119 sec)\n",
      "INFO:tensorflow:global_step/sec: 773.641\n",
      "INFO:tensorflow:loss = 12.862876, step = 9401 (0.129 sec)\n",
      "INFO:tensorflow:global_step/sec: 854.371\n",
      "INFO:tensorflow:loss = 9.070033, step = 9501 (0.117 sec)\n",
      "INFO:tensorflow:global_step/sec: 829.589\n",
      "INFO:tensorflow:loss = 13.693285, step = 9601 (0.120 sec)\n",
      "INFO:tensorflow:global_step/sec: 869.52\n",
      "INFO:tensorflow:loss = 4.169976, step = 9701 (0.119 sec)\n",
      "INFO:tensorflow:global_step/sec: 862.325\n",
      "INFO:tensorflow:loss = 7.915808, step = 9801 (0.112 sec)\n",
      "INFO:tensorflow:global_step/sec: 886.243\n",
      "INFO:tensorflow:loss = 13.607077, step = 9901 (0.112 sec)\n",
      "INFO:tensorflow:Saving checkpoints for 10000 into /tmp/tmpbhc_e2o2/model.ckpt.\n",
      "INFO:tensorflow:Loss for final step: 6.763686.\n"
     ]
    },
    {
     "data": {
      "text/plain": [
       "<tensorflow.python.estimator.canned.linear.LinearRegressor at 0x7fee94d8dc88>"
      ]
     },
     "execution_count": 20,
     "metadata": {},
     "output_type": "execute_result"
    }
   ],
   "source": [
    "regressor.train(input_fn = funcao_treinamento, steps = 10000)"
   ]
  },
  {
   "cell_type": "code",
   "execution_count": 21,
   "metadata": {},
   "outputs": [
    {
     "name": "stdout",
     "output_type": "stream",
     "text": [
      "INFO:tensorflow:Calling model_fn.\n",
      "INFO:tensorflow:Done calling model_fn.\n",
      "INFO:tensorflow:Starting evaluation at 2019-01-22-19:54:06\n",
      "INFO:tensorflow:Graph was finalized.\n",
      "INFO:tensorflow:Restoring parameters from /tmp/tmpbhc_e2o2/model.ckpt-10000\n",
      "INFO:tensorflow:Running local_init_op.\n",
      "INFO:tensorflow:Done running local_init_op.\n",
      "INFO:tensorflow:Evaluation [1000/10000]\n",
      "INFO:tensorflow:Evaluation [2000/10000]\n",
      "INFO:tensorflow:Evaluation [3000/10000]\n",
      "INFO:tensorflow:Evaluation [4000/10000]\n",
      "INFO:tensorflow:Evaluation [5000/10000]\n",
      "INFO:tensorflow:Evaluation [6000/10000]\n",
      "INFO:tensorflow:Evaluation [7000/10000]\n",
      "INFO:tensorflow:Evaluation [8000/10000]\n",
      "INFO:tensorflow:Evaluation [9000/10000]\n",
      "INFO:tensorflow:Evaluation [10000/10000]\n",
      "INFO:tensorflow:Finished evaluation at 2019-01-22-19:54:16\n",
      "INFO:tensorflow:Saving dict for global step 10000: average_loss = 0.5045994, global_step = 10000, label/mean = -0.005971046, loss = 16.14718, prediction/mean = -0.011424165\n",
      "INFO:tensorflow:Saving 'checkpoint_path' summary for global step 10000: /tmp/tmpbhc_e2o2/model.ckpt-10000\n"
     ]
    }
   ],
   "source": [
    "metricas_treinamento = regressor.evaluate(input_fn = funcao_treinamento, steps = 10000)"
   ]
  },
  {
   "cell_type": "code",
   "execution_count": 22,
   "metadata": {},
   "outputs": [
    {
     "name": "stdout",
     "output_type": "stream",
     "text": [
      "INFO:tensorflow:Calling model_fn.\n",
      "INFO:tensorflow:Done calling model_fn.\n",
      "INFO:tensorflow:Starting evaluation at 2019-01-22-19:54:16\n",
      "INFO:tensorflow:Graph was finalized.\n",
      "INFO:tensorflow:Restoring parameters from /tmp/tmpbhc_e2o2/model.ckpt-10000\n",
      "INFO:tensorflow:Running local_init_op.\n",
      "INFO:tensorflow:Done running local_init_op.\n",
      "INFO:tensorflow:Evaluation [1000/10000]\n",
      "INFO:tensorflow:Evaluation [2000/10000]\n",
      "INFO:tensorflow:Evaluation [3000/10000]\n",
      "INFO:tensorflow:Evaluation [4000/10000]\n",
      "INFO:tensorflow:Evaluation [5000/10000]\n",
      "INFO:tensorflow:Evaluation [6000/10000]\n",
      "INFO:tensorflow:Evaluation [7000/10000]\n",
      "INFO:tensorflow:Evaluation [8000/10000]\n",
      "INFO:tensorflow:Evaluation [9000/10000]\n",
      "INFO:tensorflow:Evaluation [10000/10000]\n",
      "INFO:tensorflow:Finished evaluation at 2019-01-22-19:54:27\n",
      "INFO:tensorflow:Saving dict for global step 10000: average_loss = 0.51342523, global_step = 10000, label/mean = 0.01394372, loss = 16.429607, prediction/mean = -0.0044177272\n",
      "INFO:tensorflow:Saving 'checkpoint_path' summary for global step 10000: /tmp/tmpbhc_e2o2/model.ckpt-10000\n"
     ]
    }
   ],
   "source": [
    "metricas_teste = regressor.evaluate(input_fn = funcao_teste, steps = 10000)"
   ]
  },
  {
   "cell_type": "code",
   "execution_count": 23,
   "metadata": {},
   "outputs": [
    {
     "data": {
      "text/plain": [
       "{'average_loss': 0.5045994,\n",
       " 'label/mean': -0.005971046,\n",
       " 'loss': 16.14718,\n",
       " 'prediction/mean': -0.011424165,\n",
       " 'global_step': 10000}"
      ]
     },
     "execution_count": 23,
     "metadata": {},
     "output_type": "execute_result"
    }
   ],
   "source": [
    "metricas_treinamento"
   ]
  },
  {
   "cell_type": "code",
   "execution_count": 24,
   "metadata": {},
   "outputs": [
    {
     "data": {
      "text/plain": [
       "{'average_loss': 0.51342523,\n",
       " 'label/mean': 0.01394372,\n",
       " 'loss': 16.429607,\n",
       " 'prediction/mean': -0.0044177272,\n",
       " 'global_step': 10000}"
      ]
     },
     "execution_count": 24,
     "metadata": {},
     "output_type": "execute_result"
    }
   ],
   "source": [
    "metricas_teste"
   ]
  },
  {
   "cell_type": "code",
   "execution_count": 25,
   "metadata": {},
   "outputs": [
    {
     "data": {
      "text/plain": [
       "array([[ 800],\n",
       "       [ 900],\n",
       "       [1000]])"
      ]
     },
     "execution_count": 25,
     "metadata": {},
     "output_type": "execute_result"
    }
   ],
   "source": [
    "import numpy as np\n",
    "novas_casas = np.array([[800], [900], [1000]])\n",
    "novas_casas"
   ]
  },
  {
   "cell_type": "code",
   "execution_count": 26,
   "metadata": {},
   "outputs": [
    {
     "name": "stderr",
     "output_type": "stream",
     "text": [
      "/home/luizbag/anaconda3/envs/tensorflow/lib/python3.6/site-packages/sklearn/utils/validation.py:595: DataConversionWarning: Data with input dtype int64 was converted to float64 by StandardScaler.\n",
      "  warnings.warn(msg, DataConversionWarning)\n"
     ]
    },
    {
     "data": {
      "text/plain": [
       "array([[-1.39358923],\n",
       "       [-1.28470655],\n",
       "       [-1.17582386]])"
      ]
     },
     "execution_count": 26,
     "metadata": {},
     "output_type": "execute_result"
    }
   ],
   "source": [
    "novas_casas = scaler_x.transform(novas_casas)\n",
    "novas_casas"
   ]
  },
  {
   "cell_type": "code",
   "execution_count": 27,
   "metadata": {},
   "outputs": [],
   "source": [
    "funcao_previsao = tf.estimator.inputs.numpy_input_fn({'x': novas_casas}, shuffle = False)"
   ]
  },
  {
   "cell_type": "code",
   "execution_count": 28,
   "metadata": {},
   "outputs": [],
   "source": [
    "previsoes = regressor.predict(input_fn = funcao_previsao)"
   ]
  },
  {
   "cell_type": "code",
   "execution_count": 29,
   "metadata": {},
   "outputs": [
    {
     "data": {
      "text/plain": [
       "<generator object Estimator.predict at 0x7fee9092b150>"
      ]
     },
     "execution_count": 29,
     "metadata": {},
     "output_type": "execute_result"
    }
   ],
   "source": [
    "previsoes"
   ]
  },
  {
   "cell_type": "code",
   "execution_count": 30,
   "metadata": {},
   "outputs": [
    {
     "name": "stdout",
     "output_type": "stream",
     "text": [
      "INFO:tensorflow:Calling model_fn.\n",
      "INFO:tensorflow:Done calling model_fn.\n",
      "INFO:tensorflow:Graph was finalized.\n",
      "INFO:tensorflow:Restoring parameters from /tmp/tmpbhc_e2o2/model.ckpt-10000\n",
      "INFO:tensorflow:Running local_init_op.\n",
      "INFO:tensorflow:Done running local_init_op.\n"
     ]
    },
    {
     "data": {
      "text/plain": [
       "[{'predictions': array([-0.9721143], dtype=float32)},\n",
       " {'predictions': array([-0.89689225], dtype=float32)},\n",
       " {'predictions': array([-0.82167006], dtype=float32)}]"
      ]
     },
     "execution_count": 30,
     "metadata": {},
     "output_type": "execute_result"
    }
   ],
   "source": [
    "list(previsoes)"
   ]
  },
  {
   "cell_type": "code",
   "execution_count": 31,
   "metadata": {},
   "outputs": [
    {
     "name": "stdout",
     "output_type": "stream",
     "text": [
      "INFO:tensorflow:Calling model_fn.\n",
      "INFO:tensorflow:Done calling model_fn.\n",
      "INFO:tensorflow:Graph was finalized.\n",
      "INFO:tensorflow:Restoring parameters from /tmp/tmpbhc_e2o2/model.ckpt-10000\n",
      "INFO:tensorflow:Running local_init_op.\n",
      "INFO:tensorflow:Done running local_init_op.\n",
      "[183206.8]\n",
      "[210822.23]\n",
      "[238437.7]\n"
     ]
    }
   ],
   "source": [
    "for p in regressor.predict(input_fn = funcao_previsao):\n",
    "    #print(p['predictions'])\n",
    "    print(scaler_y.inverse_transform(p['predictions']))"
   ]
  }
 ],
 "metadata": {
  "kernelspec": {
   "display_name": "Python 3",
   "language": "python",
   "name": "python3"
  },
  "language_info": {
   "codemirror_mode": {
    "name": "ipython",
    "version": 3
   },
   "file_extension": ".py",
   "mimetype": "text/x-python",
   "name": "python",
   "nbconvert_exporter": "python",
   "pygments_lexer": "ipython3",
   "version": "3.6.8"
  }
 },
 "nbformat": 4,
 "nbformat_minor": 2
}
