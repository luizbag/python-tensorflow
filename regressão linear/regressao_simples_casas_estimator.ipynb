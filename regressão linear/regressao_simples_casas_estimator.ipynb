{
 "cells": [
  {
   "cell_type": "code",
   "execution_count": 1,
   "metadata": {},
   "outputs": [
    {
     "data": {
      "text/html": [
       "<div>\n",
       "<style scoped>\n",
       "    .dataframe tbody tr th:only-of-type {\n",
       "        vertical-align: middle;\n",
       "    }\n",
       "\n",
       "    .dataframe tbody tr th {\n",
       "        vertical-align: top;\n",
       "    }\n",
       "\n",
       "    .dataframe thead th {\n",
       "        text-align: right;\n",
       "    }\n",
       "</style>\n",
       "<table border=\"1\" class=\"dataframe\">\n",
       "  <thead>\n",
       "    <tr style=\"text-align: right;\">\n",
       "      <th></th>\n",
       "      <th>id</th>\n",
       "      <th>date</th>\n",
       "      <th>price</th>\n",
       "      <th>bedrooms</th>\n",
       "      <th>bathrooms</th>\n",
       "      <th>sqft_living</th>\n",
       "      <th>sqft_lot</th>\n",
       "      <th>floors</th>\n",
       "      <th>waterfront</th>\n",
       "      <th>view</th>\n",
       "      <th>...</th>\n",
       "      <th>grade</th>\n",
       "      <th>sqft_above</th>\n",
       "      <th>sqft_basement</th>\n",
       "      <th>yr_built</th>\n",
       "      <th>yr_renovated</th>\n",
       "      <th>zipcode</th>\n",
       "      <th>lat</th>\n",
       "      <th>long</th>\n",
       "      <th>sqft_living15</th>\n",
       "      <th>sqft_lot15</th>\n",
       "    </tr>\n",
       "  </thead>\n",
       "  <tbody>\n",
       "    <tr>\n",
       "      <th>0</th>\n",
       "      <td>7129300520</td>\n",
       "      <td>20141013T000000</td>\n",
       "      <td>221900.0</td>\n",
       "      <td>3</td>\n",
       "      <td>1.00</td>\n",
       "      <td>1180</td>\n",
       "      <td>5650</td>\n",
       "      <td>1.0</td>\n",
       "      <td>0</td>\n",
       "      <td>0</td>\n",
       "      <td>...</td>\n",
       "      <td>7</td>\n",
       "      <td>1180</td>\n",
       "      <td>0</td>\n",
       "      <td>1955</td>\n",
       "      <td>0</td>\n",
       "      <td>98178</td>\n",
       "      <td>47.5112</td>\n",
       "      <td>-122.257</td>\n",
       "      <td>1340</td>\n",
       "      <td>5650</td>\n",
       "    </tr>\n",
       "    <tr>\n",
       "      <th>1</th>\n",
       "      <td>6414100192</td>\n",
       "      <td>20141209T000000</td>\n",
       "      <td>538000.0</td>\n",
       "      <td>3</td>\n",
       "      <td>2.25</td>\n",
       "      <td>2570</td>\n",
       "      <td>7242</td>\n",
       "      <td>2.0</td>\n",
       "      <td>0</td>\n",
       "      <td>0</td>\n",
       "      <td>...</td>\n",
       "      <td>7</td>\n",
       "      <td>2170</td>\n",
       "      <td>400</td>\n",
       "      <td>1951</td>\n",
       "      <td>1991</td>\n",
       "      <td>98125</td>\n",
       "      <td>47.7210</td>\n",
       "      <td>-122.319</td>\n",
       "      <td>1690</td>\n",
       "      <td>7639</td>\n",
       "    </tr>\n",
       "    <tr>\n",
       "      <th>2</th>\n",
       "      <td>5631500400</td>\n",
       "      <td>20150225T000000</td>\n",
       "      <td>180000.0</td>\n",
       "      <td>2</td>\n",
       "      <td>1.00</td>\n",
       "      <td>770</td>\n",
       "      <td>10000</td>\n",
       "      <td>1.0</td>\n",
       "      <td>0</td>\n",
       "      <td>0</td>\n",
       "      <td>...</td>\n",
       "      <td>6</td>\n",
       "      <td>770</td>\n",
       "      <td>0</td>\n",
       "      <td>1933</td>\n",
       "      <td>0</td>\n",
       "      <td>98028</td>\n",
       "      <td>47.7379</td>\n",
       "      <td>-122.233</td>\n",
       "      <td>2720</td>\n",
       "      <td>8062</td>\n",
       "    </tr>\n",
       "    <tr>\n",
       "      <th>3</th>\n",
       "      <td>2487200875</td>\n",
       "      <td>20141209T000000</td>\n",
       "      <td>604000.0</td>\n",
       "      <td>4</td>\n",
       "      <td>3.00</td>\n",
       "      <td>1960</td>\n",
       "      <td>5000</td>\n",
       "      <td>1.0</td>\n",
       "      <td>0</td>\n",
       "      <td>0</td>\n",
       "      <td>...</td>\n",
       "      <td>7</td>\n",
       "      <td>1050</td>\n",
       "      <td>910</td>\n",
       "      <td>1965</td>\n",
       "      <td>0</td>\n",
       "      <td>98136</td>\n",
       "      <td>47.5208</td>\n",
       "      <td>-122.393</td>\n",
       "      <td>1360</td>\n",
       "      <td>5000</td>\n",
       "    </tr>\n",
       "    <tr>\n",
       "      <th>4</th>\n",
       "      <td>1954400510</td>\n",
       "      <td>20150218T000000</td>\n",
       "      <td>510000.0</td>\n",
       "      <td>3</td>\n",
       "      <td>2.00</td>\n",
       "      <td>1680</td>\n",
       "      <td>8080</td>\n",
       "      <td>1.0</td>\n",
       "      <td>0</td>\n",
       "      <td>0</td>\n",
       "      <td>...</td>\n",
       "      <td>8</td>\n",
       "      <td>1680</td>\n",
       "      <td>0</td>\n",
       "      <td>1987</td>\n",
       "      <td>0</td>\n",
       "      <td>98074</td>\n",
       "      <td>47.6168</td>\n",
       "      <td>-122.045</td>\n",
       "      <td>1800</td>\n",
       "      <td>7503</td>\n",
       "    </tr>\n",
       "  </tbody>\n",
       "</table>\n",
       "<p>5 rows × 21 columns</p>\n",
       "</div>"
      ],
      "text/plain": [
       "           id             date     price  bedrooms  bathrooms  sqft_living  \\\n",
       "0  7129300520  20141013T000000  221900.0         3       1.00         1180   \n",
       "1  6414100192  20141209T000000  538000.0         3       2.25         2570   \n",
       "2  5631500400  20150225T000000  180000.0         2       1.00          770   \n",
       "3  2487200875  20141209T000000  604000.0         4       3.00         1960   \n",
       "4  1954400510  20150218T000000  510000.0         3       2.00         1680   \n",
       "\n",
       "   sqft_lot  floors  waterfront  view     ...      grade  sqft_above  \\\n",
       "0      5650     1.0           0     0     ...          7        1180   \n",
       "1      7242     2.0           0     0     ...          7        2170   \n",
       "2     10000     1.0           0     0     ...          6         770   \n",
       "3      5000     1.0           0     0     ...          7        1050   \n",
       "4      8080     1.0           0     0     ...          8        1680   \n",
       "\n",
       "   sqft_basement  yr_built  yr_renovated  zipcode      lat     long  \\\n",
       "0              0      1955             0    98178  47.5112 -122.257   \n",
       "1            400      1951          1991    98125  47.7210 -122.319   \n",
       "2              0      1933             0    98028  47.7379 -122.233   \n",
       "3            910      1965             0    98136  47.5208 -122.393   \n",
       "4              0      1987             0    98074  47.6168 -122.045   \n",
       "\n",
       "   sqft_living15  sqft_lot15  \n",
       "0           1340        5650  \n",
       "1           1690        7639  \n",
       "2           2720        8062  \n",
       "3           1360        5000  \n",
       "4           1800        7503  \n",
       "\n",
       "[5 rows x 21 columns]"
      ]
     },
     "execution_count": 1,
     "metadata": {},
     "output_type": "execute_result"
    }
   ],
   "source": [
    "import pandas as pd\n",
    "base = pd.read_csv('house_prices.csv')\n",
    "base.head()"
   ]
  },
  {
   "cell_type": "code",
   "execution_count": 2,
   "metadata": {},
   "outputs": [
    {
     "data": {
      "text/plain": [
       "(21613, 21)"
      ]
     },
     "execution_count": 2,
     "metadata": {},
     "output_type": "execute_result"
    }
   ],
   "source": [
    "base.shape"
   ]
  },
  {
   "cell_type": "code",
   "execution_count": 4,
   "metadata": {},
   "outputs": [],
   "source": [
    "X = base.iloc[:, 5:6].values\n",
    "y = base.iloc[:, 2:3].values"
   ]
  },
  {
   "cell_type": "code",
   "execution_count": 5,
   "metadata": {},
   "outputs": [
    {
     "data": {
      "text/plain": [
       "array([[1180],\n",
       "       [2570],\n",
       "       [ 770],\n",
       "       ...,\n",
       "       [1020],\n",
       "       [1600],\n",
       "       [1020]])"
      ]
     },
     "execution_count": 5,
     "metadata": {},
     "output_type": "execute_result"
    }
   ],
   "source": [
    "X"
   ]
  },
  {
   "cell_type": "code",
   "execution_count": 6,
   "metadata": {},
   "outputs": [
    {
     "data": {
      "text/plain": [
       "array([[221900.],\n",
       "       [538000.],\n",
       "       [180000.],\n",
       "       ...,\n",
       "       [402101.],\n",
       "       [400000.],\n",
       "       [325000.]])"
      ]
     },
     "execution_count": 6,
     "metadata": {},
     "output_type": "execute_result"
    }
   ],
   "source": [
    "y"
   ]
  },
  {
   "cell_type": "code",
   "execution_count": 7,
   "metadata": {},
   "outputs": [
    {
     "name": "stderr",
     "output_type": "stream",
     "text": [
      "/home/luizbag/anaconda3/envs/tensorflow/lib/python3.6/site-packages/sklearn/utils/validation.py:595: DataConversionWarning: Data with input dtype int64 was converted to float64 by StandardScaler.\n",
      "  warnings.warn(msg, DataConversionWarning)\n",
      "/home/luizbag/anaconda3/envs/tensorflow/lib/python3.6/site-packages/sklearn/utils/validation.py:595: DataConversionWarning: Data with input dtype int64 was converted to float64 by StandardScaler.\n",
      "  warnings.warn(msg, DataConversionWarning)\n"
     ]
    }
   ],
   "source": [
    "from sklearn.preprocessing import StandardScaler\n",
    "scaler_x = StandardScaler()\n",
    "X = scaler_x.fit_transform(X)\n",
    "scaler_y = StandardScaler()\n",
    "y = scaler_y.fit_transform(y)"
   ]
  },
  {
   "cell_type": "code",
   "execution_count": 8,
   "metadata": {},
   "outputs": [
    {
     "data": {
      "text/plain": [
       "array([[-0.97983502],\n",
       "       [ 0.53363434],\n",
       "       [-1.42625404],\n",
       "       ...,\n",
       "       [-1.15404732],\n",
       "       [-0.52252773],\n",
       "       [-1.15404732]])"
      ]
     },
     "execution_count": 8,
     "metadata": {},
     "output_type": "execute_result"
    }
   ],
   "source": [
    "X"
   ]
  },
  {
   "cell_type": "code",
   "execution_count": 9,
   "metadata": {},
   "outputs": [
    {
     "data": {
      "text/plain": [
       "array([[-0.86671733],\n",
       "       [-0.00568792],\n",
       "       [-0.98084935],\n",
       "       ...,\n",
       "       [-0.37586519],\n",
       "       [-0.38158814],\n",
       "       [-0.58588173]])"
      ]
     },
     "execution_count": 9,
     "metadata": {},
     "output_type": "execute_result"
    }
   ],
   "source": [
    "y"
   ]
  },
  {
   "cell_type": "code",
   "execution_count": 10,
   "metadata": {},
   "outputs": [],
   "source": [
    "import tensorflow as tf"
   ]
  },
  {
   "cell_type": "code",
   "execution_count": 11,
   "metadata": {},
   "outputs": [],
   "source": [
    "colunas = [tf.feature_column.numeric_column('x', shape = [1])]"
   ]
  },
  {
   "cell_type": "code",
   "execution_count": 12,
   "metadata": {},
   "outputs": [
    {
     "data": {
      "text/plain": [
       "[_NumericColumn(key='x', shape=(1,), default_value=None, dtype=tf.float32, normalizer_fn=None)]"
      ]
     },
     "execution_count": 12,
     "metadata": {},
     "output_type": "execute_result"
    }
   ],
   "source": [
    "colunas"
   ]
  },
  {
   "cell_type": "code",
   "execution_count": 13,
   "metadata": {},
   "outputs": [
    {
     "name": "stdout",
     "output_type": "stream",
     "text": [
      "INFO:tensorflow:Using default config.\n",
      "WARNING:tensorflow:Using temporary folder as model directory: /tmp/tmpqw2efpds\n",
      "INFO:tensorflow:Using config: {'_model_dir': '/tmp/tmpqw2efpds', '_tf_random_seed': None, '_save_summary_steps': 100, '_save_checkpoints_steps': None, '_save_checkpoints_secs': 600, '_session_config': allow_soft_placement: true\n",
      "graph_options {\n",
      "  rewrite_options {\n",
      "    meta_optimizer_iterations: ONE\n",
      "  }\n",
      "}\n",
      ", '_keep_checkpoint_max': 5, '_keep_checkpoint_every_n_hours': 10000, '_log_step_count_steps': 100, '_train_distribute': None, '_device_fn': None, '_protocol': None, '_eval_distribute': None, '_experimental_distribute': None, '_service': None, '_cluster_spec': <tensorflow.python.training.server_lib.ClusterSpec object at 0x7f7d43b83198>, '_task_type': 'worker', '_task_id': 0, '_global_id_in_cluster': 0, '_master': '', '_evaluation_master': '', '_is_chief': True, '_num_ps_replicas': 0, '_num_worker_replicas': 1}\n"
     ]
    }
   ],
   "source": [
    "regressor = tf.estimator.LinearRegressor(feature_columns=colunas)"
   ]
  },
  {
   "cell_type": "code",
   "execution_count": 14,
   "metadata": {},
   "outputs": [],
   "source": [
    "from sklearn.model_selection import train_test_split\n",
    "X_treinamento, X_teste, y_treinamento, y_teste = train_test_split(X, y, test_size = 0.3)"
   ]
  },
  {
   "cell_type": "code",
   "execution_count": 15,
   "metadata": {},
   "outputs": [
    {
     "data": {
      "text/plain": [
       "(15129, 1)"
      ]
     },
     "execution_count": 15,
     "metadata": {},
     "output_type": "execute_result"
    }
   ],
   "source": [
    "X_treinamento.shape"
   ]
  },
  {
   "cell_type": "code",
   "execution_count": 16,
   "metadata": {},
   "outputs": [
    {
     "data": {
      "text/plain": [
       "(15129, 1)"
      ]
     },
     "execution_count": 16,
     "metadata": {},
     "output_type": "execute_result"
    }
   ],
   "source": [
    "y_treinamento.shape"
   ]
  },
  {
   "cell_type": "code",
   "execution_count": 17,
   "metadata": {},
   "outputs": [
    {
     "data": {
      "text/plain": [
       "(6484, 1)"
      ]
     },
     "execution_count": 17,
     "metadata": {},
     "output_type": "execute_result"
    }
   ],
   "source": [
    "X_teste.shape"
   ]
  },
  {
   "cell_type": "code",
   "execution_count": 18,
   "metadata": {},
   "outputs": [
    {
     "data": {
      "text/plain": [
       "(6484, 1)"
      ]
     },
     "execution_count": 18,
     "metadata": {},
     "output_type": "execute_result"
    }
   ],
   "source": [
    "y_teste.shape"
   ]
  },
  {
   "cell_type": "code",
   "execution_count": 19,
   "metadata": {},
   "outputs": [],
   "source": [
    "funcao_treinamento = tf.estimator.inputs.numpy_input_fn({'x': X_treinamento}, y_treinamento,\n",
    "                                                        batch_size = 32, num_epochs = None, \n",
    "                                                        shuffle = True)"
   ]
  },
  {
   "cell_type": "code",
   "execution_count": 20,
   "metadata": {},
   "outputs": [],
   "source": [
    "funcao_teste = tf.estimator.inputs.numpy_input_fn({'x': X_teste}, y_teste, batch_size = 32, \n",
    "                                                  num_epochs = 1000, shuffle = False)"
   ]
  },
  {
   "cell_type": "code",
   "execution_count": 21,
   "metadata": {},
   "outputs": [
    {
     "name": "stdout",
     "output_type": "stream",
     "text": [
      "WARNING:tensorflow:From /home/luizbag/anaconda3/envs/tensorflow/lib/python3.6/site-packages/tensorflow/python/estimator/inputs/queues/feeding_queue_runner.py:62: QueueRunner.__init__ (from tensorflow.python.training.queue_runner_impl) is deprecated and will be removed in a future version.\n",
      "Instructions for updating:\n",
      "To construct input pipelines, use the `tf.data` module.\n",
      "WARNING:tensorflow:From /home/luizbag/anaconda3/envs/tensorflow/lib/python3.6/site-packages/tensorflow/python/estimator/inputs/queues/feeding_functions.py:500: add_queue_runner (from tensorflow.python.training.queue_runner_impl) is deprecated and will be removed in a future version.\n",
      "Instructions for updating:\n",
      "To construct input pipelines, use the `tf.data` module.\n",
      "INFO:tensorflow:Calling model_fn.\n",
      "INFO:tensorflow:Done calling model_fn.\n",
      "INFO:tensorflow:Create CheckpointSaverHook.\n",
      "INFO:tensorflow:Graph was finalized.\n",
      "INFO:tensorflow:Running local_init_op.\n",
      "INFO:tensorflow:Done running local_init_op.\n",
      "WARNING:tensorflow:From /home/luizbag/anaconda3/envs/tensorflow/lib/python3.6/site-packages/tensorflow/python/training/monitored_session.py:804: start_queue_runners (from tensorflow.python.training.queue_runner_impl) is deprecated and will be removed in a future version.\n",
      "Instructions for updating:\n",
      "To construct input pipelines, use the `tf.data` module.\n",
      "INFO:tensorflow:Saving checkpoints for 0 into /tmp/tmpqw2efpds/model.ckpt.\n",
      "INFO:tensorflow:loss = 27.401388, step = 1\n",
      "INFO:tensorflow:global_step/sec: 866.869\n",
      "INFO:tensorflow:loss = 16.772003, step = 101 (0.116 sec)\n",
      "INFO:tensorflow:global_step/sec: 1190.87\n",
      "INFO:tensorflow:loss = 7.797895, step = 201 (0.084 sec)\n",
      "INFO:tensorflow:global_step/sec: 1109.77\n",
      "INFO:tensorflow:loss = 25.195791, step = 301 (0.090 sec)\n",
      "INFO:tensorflow:global_step/sec: 1274.54\n",
      "INFO:tensorflow:loss = 7.9770994, step = 401 (0.079 sec)\n",
      "INFO:tensorflow:global_step/sec: 988.987\n",
      "INFO:tensorflow:loss = 5.92229, step = 501 (0.101 sec)\n",
      "INFO:tensorflow:global_step/sec: 1190.54\n",
      "INFO:tensorflow:loss = 9.769019, step = 601 (0.083 sec)\n",
      "INFO:tensorflow:global_step/sec: 1367.14\n",
      "INFO:tensorflow:loss = 10.283272, step = 701 (0.075 sec)\n",
      "INFO:tensorflow:global_step/sec: 1168.53\n",
      "INFO:tensorflow:loss = 25.345, step = 801 (0.084 sec)\n",
      "INFO:tensorflow:global_step/sec: 1094.02\n",
      "INFO:tensorflow:loss = 26.483032, step = 901 (0.091 sec)\n",
      "INFO:tensorflow:global_step/sec: 1099.23\n",
      "INFO:tensorflow:loss = 19.328693, step = 1001 (0.091 sec)\n",
      "INFO:tensorflow:global_step/sec: 1063.17\n",
      "INFO:tensorflow:loss = 10.328995, step = 1101 (0.094 sec)\n",
      "INFO:tensorflow:global_step/sec: 1023.66\n",
      "INFO:tensorflow:loss = 46.85751, step = 1201 (0.098 sec)\n",
      "INFO:tensorflow:global_step/sec: 1218.05\n",
      "INFO:tensorflow:loss = 10.503195, step = 1301 (0.082 sec)\n",
      "INFO:tensorflow:global_step/sec: 1041.09\n",
      "INFO:tensorflow:loss = 12.462408, step = 1401 (0.096 sec)\n",
      "INFO:tensorflow:global_step/sec: 1029.89\n",
      "INFO:tensorflow:loss = 50.59811, step = 1501 (0.097 sec)\n",
      "INFO:tensorflow:global_step/sec: 1011.86\n",
      "INFO:tensorflow:loss = 29.951641, step = 1601 (0.099 sec)\n",
      "INFO:tensorflow:global_step/sec: 1019.46\n",
      "INFO:tensorflow:loss = 8.998701, step = 1701 (0.098 sec)\n",
      "INFO:tensorflow:global_step/sec: 1074.5\n",
      "INFO:tensorflow:loss = 8.871595, step = 1801 (0.093 sec)\n",
      "INFO:tensorflow:global_step/sec: 1123.4\n",
      "INFO:tensorflow:loss = 8.865684, step = 1901 (0.089 sec)\n",
      "INFO:tensorflow:global_step/sec: 1093.2\n",
      "INFO:tensorflow:loss = 8.0485935, step = 2001 (0.091 sec)\n",
      "INFO:tensorflow:global_step/sec: 1345.13\n",
      "INFO:tensorflow:loss = 67.42616, step = 2101 (0.074 sec)\n",
      "INFO:tensorflow:global_step/sec: 1174.8\n",
      "INFO:tensorflow:loss = 7.13628, step = 2201 (0.085 sec)\n",
      "INFO:tensorflow:global_step/sec: 1147.04\n",
      "INFO:tensorflow:loss = 13.59214, step = 2301 (0.089 sec)\n",
      "INFO:tensorflow:global_step/sec: 1112.8\n",
      "INFO:tensorflow:loss = 12.295217, step = 2401 (0.091 sec)\n",
      "INFO:tensorflow:global_step/sec: 1104.42\n",
      "INFO:tensorflow:loss = 12.647055, step = 2501 (0.089 sec)\n",
      "INFO:tensorflow:global_step/sec: 559.755\n",
      "INFO:tensorflow:loss = 9.9965515, step = 2601 (0.178 sec)\n",
      "INFO:tensorflow:global_step/sec: 1126.04\n",
      "INFO:tensorflow:loss = 5.2047906, step = 2701 (0.089 sec)\n",
      "INFO:tensorflow:global_step/sec: 979.529\n",
      "INFO:tensorflow:loss = 8.743059, step = 2801 (0.101 sec)\n",
      "INFO:tensorflow:global_step/sec: 1020.96\n",
      "INFO:tensorflow:loss = 6.6974473, step = 2901 (0.098 sec)\n",
      "INFO:tensorflow:global_step/sec: 1016.99\n",
      "INFO:tensorflow:loss = 37.178787, step = 3001 (0.098 sec)\n",
      "INFO:tensorflow:global_step/sec: 1018.24\n",
      "INFO:tensorflow:loss = 9.559941, step = 3101 (0.099 sec)\n",
      "INFO:tensorflow:global_step/sec: 1086.85\n",
      "INFO:tensorflow:loss = 6.943674, step = 3201 (0.092 sec)\n",
      "INFO:tensorflow:global_step/sec: 1020.23\n",
      "INFO:tensorflow:loss = 32.1813, step = 3301 (0.098 sec)\n",
      "INFO:tensorflow:global_step/sec: 1002.48\n",
      "INFO:tensorflow:loss = 4.5099053, step = 3401 (0.099 sec)\n",
      "INFO:tensorflow:global_step/sec: 1006.36\n",
      "INFO:tensorflow:loss = 13.78994, step = 3501 (0.099 sec)\n",
      "INFO:tensorflow:global_step/sec: 1072.87\n",
      "INFO:tensorflow:loss = 6.9924884, step = 3601 (0.093 sec)\n",
      "INFO:tensorflow:global_step/sec: 1016.7\n",
      "INFO:tensorflow:loss = 10.17028, step = 3701 (0.098 sec)\n",
      "INFO:tensorflow:global_step/sec: 1030.84\n",
      "INFO:tensorflow:loss = 7.884907, step = 3801 (0.098 sec)\n",
      "INFO:tensorflow:global_step/sec: 994.708\n",
      "INFO:tensorflow:loss = 150.23247, step = 3901 (0.100 sec)\n",
      "INFO:tensorflow:global_step/sec: 1153.36\n",
      "INFO:tensorflow:loss = 8.208088, step = 4001 (0.087 sec)\n",
      "INFO:tensorflow:global_step/sec: 1044.69\n",
      "INFO:tensorflow:loss = 16.00126, step = 4101 (0.096 sec)\n",
      "INFO:tensorflow:global_step/sec: 1019.23\n",
      "INFO:tensorflow:loss = 8.417587, step = 4201 (0.098 sec)\n",
      "INFO:tensorflow:global_step/sec: 1031.5\n",
      "INFO:tensorflow:loss = 18.738537, step = 4301 (0.096 sec)\n",
      "INFO:tensorflow:global_step/sec: 1159.02\n",
      "INFO:tensorflow:loss = 19.7809, step = 4401 (0.087 sec)\n",
      "INFO:tensorflow:global_step/sec: 1060.82\n",
      "INFO:tensorflow:loss = 22.13638, step = 4501 (0.094 sec)\n",
      "INFO:tensorflow:global_step/sec: 1030.06\n",
      "INFO:tensorflow:loss = 14.570684, step = 4601 (0.098 sec)\n",
      "INFO:tensorflow:global_step/sec: 1012.37\n",
      "INFO:tensorflow:loss = 6.593541, step = 4701 (0.098 sec)\n",
      "INFO:tensorflow:global_step/sec: 1096.85\n",
      "INFO:tensorflow:loss = 20.960281, step = 4801 (0.091 sec)\n",
      "INFO:tensorflow:global_step/sec: 1075.81\n",
      "INFO:tensorflow:loss = 12.568083, step = 4901 (0.093 sec)\n",
      "INFO:tensorflow:global_step/sec: 1120.29\n",
      "INFO:tensorflow:loss = 9.172915, step = 5001 (0.089 sec)\n",
      "INFO:tensorflow:global_step/sec: 1201.48\n",
      "INFO:tensorflow:loss = 36.56067, step = 5101 (0.083 sec)\n",
      "INFO:tensorflow:global_step/sec: 1047.5\n",
      "INFO:tensorflow:loss = 9.545955, step = 5201 (0.096 sec)\n",
      "INFO:tensorflow:global_step/sec: 1027.01\n",
      "INFO:tensorflow:loss = 10.009384, step = 5301 (0.097 sec)\n",
      "INFO:tensorflow:global_step/sec: 1032.22\n",
      "INFO:tensorflow:loss = 7.0128183, step = 5401 (0.097 sec)\n",
      "INFO:tensorflow:global_step/sec: 1043.61\n",
      "INFO:tensorflow:loss = 6.1294966, step = 5501 (0.096 sec)\n",
      "INFO:tensorflow:global_step/sec: 1071.94\n",
      "INFO:tensorflow:loss = 6.8223896, step = 5601 (0.093 sec)\n",
      "INFO:tensorflow:global_step/sec: 1121.88\n",
      "INFO:tensorflow:loss = 7.3058887, step = 5701 (0.089 sec)\n",
      "INFO:tensorflow:global_step/sec: 1054.07\n",
      "INFO:tensorflow:loss = 10.426359, step = 5801 (0.095 sec)\n",
      "INFO:tensorflow:global_step/sec: 1088.77\n",
      "INFO:tensorflow:loss = 15.014135, step = 5901 (0.092 sec)\n",
      "INFO:tensorflow:global_step/sec: 1103.66\n",
      "INFO:tensorflow:loss = 27.168562, step = 6001 (0.090 sec)\n",
      "INFO:tensorflow:global_step/sec: 1103.23\n",
      "INFO:tensorflow:loss = 33.255188, step = 6101 (0.091 sec)\n",
      "INFO:tensorflow:global_step/sec: 1077.15\n",
      "INFO:tensorflow:loss = 9.056257, step = 6201 (0.092 sec)\n",
      "INFO:tensorflow:global_step/sec: 1182.8\n",
      "INFO:tensorflow:loss = 6.3803177, step = 6301 (0.085 sec)\n",
      "INFO:tensorflow:global_step/sec: 1312.95\n",
      "INFO:tensorflow:loss = 8.567657, step = 6401 (0.076 sec)\n",
      "INFO:tensorflow:global_step/sec: 1349.72\n",
      "INFO:tensorflow:loss = 11.767024, step = 6501 (0.074 sec)\n",
      "INFO:tensorflow:global_step/sec: 1299.83\n",
      "INFO:tensorflow:loss = 11.577794, step = 6601 (0.077 sec)\n",
      "INFO:tensorflow:global_step/sec: 1303.63\n",
      "INFO:tensorflow:loss = 6.2511196, step = 6701 (0.077 sec)\n",
      "INFO:tensorflow:global_step/sec: 1064.43\n",
      "INFO:tensorflow:loss = 8.151667, step = 6801 (0.094 sec)\n",
      "INFO:tensorflow:global_step/sec: 1006.51\n",
      "INFO:tensorflow:loss = 5.369304, step = 6901 (0.100 sec)\n"
     ]
    },
    {
     "name": "stdout",
     "output_type": "stream",
     "text": [
      "INFO:tensorflow:global_step/sec: 1003.59\n",
      "INFO:tensorflow:loss = 10.582952, step = 7001 (0.100 sec)\n",
      "INFO:tensorflow:global_step/sec: 1009.98\n",
      "INFO:tensorflow:loss = 11.428911, step = 7101 (0.099 sec)\n",
      "INFO:tensorflow:global_step/sec: 1015.75\n",
      "INFO:tensorflow:loss = 16.686607, step = 7201 (0.099 sec)\n",
      "INFO:tensorflow:global_step/sec: 1074.86\n",
      "INFO:tensorflow:loss = 17.62306, step = 7301 (0.092 sec)\n",
      "INFO:tensorflow:global_step/sec: 1112.66\n",
      "INFO:tensorflow:loss = 49.556778, step = 7401 (0.090 sec)\n",
      "INFO:tensorflow:global_step/sec: 1098.84\n",
      "INFO:tensorflow:loss = 8.833002, step = 7501 (0.091 sec)\n",
      "INFO:tensorflow:global_step/sec: 1107.77\n",
      "INFO:tensorflow:loss = 11.222549, step = 7601 (0.090 sec)\n",
      "INFO:tensorflow:global_step/sec: 1100.97\n",
      "INFO:tensorflow:loss = 18.85415, step = 7701 (0.091 sec)\n",
      "INFO:tensorflow:global_step/sec: 1266.33\n",
      "INFO:tensorflow:loss = 8.482089, step = 7801 (0.078 sec)\n",
      "INFO:tensorflow:global_step/sec: 1108.49\n",
      "INFO:tensorflow:loss = 39.906975, step = 7901 (0.090 sec)\n",
      "INFO:tensorflow:global_step/sec: 1069.23\n",
      "INFO:tensorflow:loss = 7.7256246, step = 8001 (0.094 sec)\n",
      "INFO:tensorflow:global_step/sec: 1253.27\n",
      "INFO:tensorflow:loss = 13.79995, step = 8101 (0.080 sec)\n",
      "INFO:tensorflow:global_step/sec: 1180.45\n",
      "INFO:tensorflow:loss = 8.660446, step = 8201 (0.085 sec)\n",
      "INFO:tensorflow:global_step/sec: 1127.8\n",
      "INFO:tensorflow:loss = 6.6413727, step = 8301 (0.089 sec)\n",
      "INFO:tensorflow:global_step/sec: 1126.65\n",
      "INFO:tensorflow:loss = 23.85154, step = 8401 (0.089 sec)\n",
      "INFO:tensorflow:global_step/sec: 1118.03\n",
      "INFO:tensorflow:loss = 18.288057, step = 8501 (0.091 sec)\n",
      "INFO:tensorflow:global_step/sec: 992.777\n",
      "INFO:tensorflow:loss = 8.986101, step = 8601 (0.100 sec)\n",
      "INFO:tensorflow:global_step/sec: 1083.55\n",
      "INFO:tensorflow:loss = 43.327602, step = 8701 (0.093 sec)\n",
      "INFO:tensorflow:global_step/sec: 1012.28\n",
      "INFO:tensorflow:loss = 14.0309, step = 8801 (0.099 sec)\n",
      "INFO:tensorflow:global_step/sec: 1021.24\n",
      "INFO:tensorflow:loss = 3.6617503, step = 8901 (0.098 sec)\n",
      "INFO:tensorflow:global_step/sec: 1023.8\n",
      "INFO:tensorflow:loss = 14.015526, step = 9001 (0.097 sec)\n",
      "INFO:tensorflow:global_step/sec: 1069.39\n",
      "INFO:tensorflow:loss = 154.12767, step = 9101 (0.093 sec)\n",
      "INFO:tensorflow:global_step/sec: 1115.26\n",
      "INFO:tensorflow:loss = 8.621529, step = 9201 (0.090 sec)\n",
      "INFO:tensorflow:global_step/sec: 1121.01\n",
      "INFO:tensorflow:loss = 7.3800197, step = 9301 (0.089 sec)\n",
      "INFO:tensorflow:global_step/sec: 1188.34\n",
      "INFO:tensorflow:loss = 16.99221, step = 9401 (0.084 sec)\n",
      "INFO:tensorflow:global_step/sec: 1080.88\n",
      "INFO:tensorflow:loss = 9.464793, step = 9501 (0.093 sec)\n",
      "INFO:tensorflow:global_step/sec: 1009.24\n",
      "INFO:tensorflow:loss = 9.647538, step = 9601 (0.099 sec)\n",
      "INFO:tensorflow:global_step/sec: 994.467\n",
      "INFO:tensorflow:loss = 11.716139, step = 9701 (0.100 sec)\n",
      "INFO:tensorflow:global_step/sec: 1059.4\n",
      "INFO:tensorflow:loss = 8.035131, step = 9801 (0.095 sec)\n",
      "INFO:tensorflow:global_step/sec: 1101.59\n",
      "INFO:tensorflow:loss = 9.222036, step = 9901 (0.090 sec)\n",
      "INFO:tensorflow:Saving checkpoints for 10000 into /tmp/tmpqw2efpds/model.ckpt.\n",
      "INFO:tensorflow:Loss for final step: 17.07825.\n"
     ]
    },
    {
     "data": {
      "text/plain": [
       "<tensorflow.python.estimator.canned.linear.LinearRegressor at 0x7f7d5b70ce80>"
      ]
     },
     "execution_count": 21,
     "metadata": {},
     "output_type": "execute_result"
    }
   ],
   "source": [
    "regressor.train(input_fn = funcao_treinamento, steps = 10000)"
   ]
  },
  {
   "cell_type": "code",
   "execution_count": 22,
   "metadata": {},
   "outputs": [
    {
     "name": "stdout",
     "output_type": "stream",
     "text": [
      "INFO:tensorflow:Calling model_fn.\n",
      "INFO:tensorflow:Done calling model_fn.\n",
      "INFO:tensorflow:Starting evaluation at 2019-01-23-22:04:55\n",
      "INFO:tensorflow:Graph was finalized.\n",
      "INFO:tensorflow:Restoring parameters from /tmp/tmpqw2efpds/model.ckpt-10000\n",
      "INFO:tensorflow:Running local_init_op.\n",
      "INFO:tensorflow:Done running local_init_op.\n",
      "INFO:tensorflow:Evaluation [1000/10000]\n",
      "INFO:tensorflow:Evaluation [2000/10000]\n",
      "INFO:tensorflow:Evaluation [3000/10000]\n",
      "INFO:tensorflow:Evaluation [4000/10000]\n",
      "INFO:tensorflow:Evaluation [5000/10000]\n",
      "INFO:tensorflow:Evaluation [6000/10000]\n",
      "INFO:tensorflow:Evaluation [7000/10000]\n",
      "INFO:tensorflow:Evaluation [8000/10000]\n",
      "INFO:tensorflow:Evaluation [9000/10000]\n",
      "INFO:tensorflow:Evaluation [10000/10000]\n",
      "INFO:tensorflow:Finished evaluation at 2019-01-23-22:05:02\n",
      "INFO:tensorflow:Saving dict for global step 10000: average_loss = 0.5055223, global_step = 10000, label/mean = -0.0077094375, loss = 16.176714, prediction/mean = -0.018214094\n",
      "INFO:tensorflow:Saving 'checkpoint_path' summary for global step 10000: /tmp/tmpqw2efpds/model.ckpt-10000\n"
     ]
    }
   ],
   "source": [
    "metricas_treinamento = regressor.evaluate(input_fn = funcao_treinamento, steps = 10000)"
   ]
  },
  {
   "cell_type": "code",
   "execution_count": 23,
   "metadata": {},
   "outputs": [
    {
     "name": "stdout",
     "output_type": "stream",
     "text": [
      "INFO:tensorflow:Calling model_fn.\n",
      "INFO:tensorflow:Done calling model_fn.\n",
      "INFO:tensorflow:Starting evaluation at 2019-01-23-22:05:21\n",
      "INFO:tensorflow:Graph was finalized.\n",
      "INFO:tensorflow:Restoring parameters from /tmp/tmpqw2efpds/model.ckpt-10000\n",
      "INFO:tensorflow:Running local_init_op.\n",
      "INFO:tensorflow:Done running local_init_op.\n",
      "INFO:tensorflow:Evaluation [1000/10000]\n",
      "INFO:tensorflow:Evaluation [2000/10000]\n",
      "INFO:tensorflow:Evaluation [3000/10000]\n",
      "INFO:tensorflow:Evaluation [4000/10000]\n",
      "INFO:tensorflow:Evaluation [5000/10000]\n",
      "INFO:tensorflow:Evaluation [6000/10000]\n",
      "INFO:tensorflow:Evaluation [7000/10000]\n",
      "INFO:tensorflow:Evaluation [8000/10000]\n",
      "INFO:tensorflow:Evaluation [9000/10000]\n",
      "INFO:tensorflow:Evaluation [10000/10000]\n",
      "INFO:tensorflow:Finished evaluation at 2019-01-23-22:05:29\n",
      "INFO:tensorflow:Saving dict for global step 10000: average_loss = 0.5139621, global_step = 10000, label/mean = 0.018339898, loss = 16.446787, prediction/mean = -0.014618424\n",
      "INFO:tensorflow:Saving 'checkpoint_path' summary for global step 10000: /tmp/tmpqw2efpds/model.ckpt-10000\n"
     ]
    }
   ],
   "source": [
    "metricas_teste = regressor.evaluate(input_fn = funcao_teste, steps = 10000)"
   ]
  },
  {
   "cell_type": "code",
   "execution_count": 24,
   "metadata": {},
   "outputs": [
    {
     "data": {
      "text/plain": [
       "{'average_loss': 0.5055223,\n",
       " 'label/mean': -0.0077094375,\n",
       " 'loss': 16.176714,\n",
       " 'prediction/mean': -0.018214094,\n",
       " 'global_step': 10000}"
      ]
     },
     "execution_count": 24,
     "metadata": {},
     "output_type": "execute_result"
    }
   ],
   "source": [
    "metricas_treinamento"
   ]
  },
  {
   "cell_type": "code",
   "execution_count": 25,
   "metadata": {},
   "outputs": [
    {
     "data": {
      "text/plain": [
       "{'average_loss': 0.5139621,\n",
       " 'label/mean': 0.018339898,\n",
       " 'loss': 16.446787,\n",
       " 'prediction/mean': -0.014618424,\n",
       " 'global_step': 10000}"
      ]
     },
     "execution_count": 25,
     "metadata": {},
     "output_type": "execute_result"
    }
   ],
   "source": [
    "metricas_teste"
   ]
  },
  {
   "cell_type": "code",
   "execution_count": 26,
   "metadata": {},
   "outputs": [
    {
     "data": {
      "text/plain": [
       "array([[ 800],\n",
       "       [ 900],\n",
       "       [1000]])"
      ]
     },
     "execution_count": 26,
     "metadata": {},
     "output_type": "execute_result"
    }
   ],
   "source": [
    "import numpy as np\n",
    "novas_casas = np.array([[800], [900], [1000]])\n",
    "novas_casas"
   ]
  },
  {
   "cell_type": "code",
   "execution_count": 27,
   "metadata": {},
   "outputs": [
    {
     "name": "stderr",
     "output_type": "stream",
     "text": [
      "/home/luizbag/anaconda3/envs/tensorflow/lib/python3.6/site-packages/sklearn/utils/validation.py:595: DataConversionWarning: Data with input dtype int64 was converted to float64 by StandardScaler.\n",
      "  warnings.warn(msg, DataConversionWarning)\n"
     ]
    },
    {
     "data": {
      "text/plain": [
       "array([[-1.39358923],\n",
       "       [-1.28470655],\n",
       "       [-1.17582386]])"
      ]
     },
     "execution_count": 27,
     "metadata": {},
     "output_type": "execute_result"
    }
   ],
   "source": [
    "novas_casas = scaler_x.transform(novas_casas)\n",
    "novas_casas"
   ]
  },
  {
   "cell_type": "code",
   "execution_count": 28,
   "metadata": {},
   "outputs": [],
   "source": [
    "funcao_previsao = tf.estimator.inputs.numpy_input_fn({'x': novas_casas}, shuffle = False)"
   ]
  },
  {
   "cell_type": "code",
   "execution_count": 29,
   "metadata": {},
   "outputs": [],
   "source": [
    "previsoes = regressor.predict(input_fn = funcao_previsao)"
   ]
  },
  {
   "cell_type": "code",
   "execution_count": 30,
   "metadata": {},
   "outputs": [
    {
     "data": {
      "text/plain": [
       "<generator object Estimator.predict at 0x7f7d4021c0a0>"
      ]
     },
     "execution_count": 30,
     "metadata": {},
     "output_type": "execute_result"
    }
   ],
   "source": [
    "previsoes"
   ]
  },
  {
   "cell_type": "code",
   "execution_count": 31,
   "metadata": {},
   "outputs": [
    {
     "name": "stdout",
     "output_type": "stream",
     "text": [
      "INFO:tensorflow:Calling model_fn.\n",
      "INFO:tensorflow:Done calling model_fn.\n",
      "INFO:tensorflow:Graph was finalized.\n",
      "INFO:tensorflow:Restoring parameters from /tmp/tmpqw2efpds/model.ckpt-10000\n",
      "INFO:tensorflow:Running local_init_op.\n",
      "INFO:tensorflow:Done running local_init_op.\n"
     ]
    },
    {
     "data": {
      "text/plain": [
       "[{'predictions': array([-0.97261053], dtype=float32)},\n",
       " {'predictions': array([-0.8979665], dtype=float32)},\n",
       " {'predictions': array([-0.8233224], dtype=float32)}]"
      ]
     },
     "execution_count": 31,
     "metadata": {},
     "output_type": "execute_result"
    }
   ],
   "source": [
    "list(previsoes)"
   ]
  },
  {
   "cell_type": "code",
   "execution_count": 32,
   "metadata": {},
   "outputs": [
    {
     "name": "stdout",
     "output_type": "stream",
     "text": [
      "INFO:tensorflow:Calling model_fn.\n",
      "INFO:tensorflow:Done calling model_fn.\n",
      "INFO:tensorflow:Graph was finalized.\n",
      "INFO:tensorflow:Restoring parameters from /tmp/tmpqw2efpds/model.ckpt-10000\n",
      "INFO:tensorflow:Running local_init_op.\n",
      "INFO:tensorflow:Done running local_init_op.\n",
      "[183024.61]\n",
      "[210427.83]\n",
      "[237831.08]\n"
     ]
    }
   ],
   "source": [
    "for p in regressor.predict(input_fn = funcao_previsao):\n",
    "    #print(p['predictions'])\n",
    "    print(scaler_y.inverse_transform(p['predictions']))"
   ]
  }
 ],
 "metadata": {
  "kernelspec": {
   "display_name": "Python 3",
   "language": "python",
   "name": "python3"
  },
  "language_info": {
   "codemirror_mode": {
    "name": "ipython",
    "version": 3
   },
   "file_extension": ".py",
   "mimetype": "text/x-python",
   "name": "python",
   "nbconvert_exporter": "python",
   "pygments_lexer": "ipython3",
   "version": "3.6.8"
  }
 },
 "nbformat": 4,
 "nbformat_minor": 2
}
