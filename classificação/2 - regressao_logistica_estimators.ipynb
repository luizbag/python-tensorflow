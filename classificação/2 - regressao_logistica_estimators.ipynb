{
 "cells": [
  {
   "cell_type": "code",
   "execution_count": 47,
   "metadata": {},
   "outputs": [
    {
     "data": {
      "text/html": [
       "<div>\n",
       "<style scoped>\n",
       "    .dataframe tbody tr th:only-of-type {\n",
       "        vertical-align: middle;\n",
       "    }\n",
       "\n",
       "    .dataframe tbody tr th {\n",
       "        vertical-align: top;\n",
       "    }\n",
       "\n",
       "    .dataframe thead th {\n",
       "        text-align: right;\n",
       "    }\n",
       "</style>\n",
       "<table border=\"1\" class=\"dataframe\">\n",
       "  <thead>\n",
       "    <tr style=\"text-align: right;\">\n",
       "      <th></th>\n",
       "      <th>age</th>\n",
       "      <th>workclass</th>\n",
       "      <th>final-weight</th>\n",
       "      <th>education</th>\n",
       "      <th>education-num</th>\n",
       "      <th>marital-status</th>\n",
       "      <th>occupation</th>\n",
       "      <th>relationship</th>\n",
       "      <th>race</th>\n",
       "      <th>sex</th>\n",
       "      <th>capital-gain</th>\n",
       "      <th>capital-loos</th>\n",
       "      <th>hour-per-week</th>\n",
       "      <th>native-country</th>\n",
       "      <th>income</th>\n",
       "    </tr>\n",
       "  </thead>\n",
       "  <tbody>\n",
       "    <tr>\n",
       "      <th>0</th>\n",
       "      <td>39</td>\n",
       "      <td>State-gov</td>\n",
       "      <td>77516</td>\n",
       "      <td>Bachelors</td>\n",
       "      <td>13</td>\n",
       "      <td>Never-married</td>\n",
       "      <td>Adm-clerical</td>\n",
       "      <td>Not-in-family</td>\n",
       "      <td>White</td>\n",
       "      <td>Male</td>\n",
       "      <td>2174</td>\n",
       "      <td>0</td>\n",
       "      <td>40</td>\n",
       "      <td>United-States</td>\n",
       "      <td>&lt;=50K</td>\n",
       "    </tr>\n",
       "    <tr>\n",
       "      <th>1</th>\n",
       "      <td>50</td>\n",
       "      <td>Self-emp-not-inc</td>\n",
       "      <td>83311</td>\n",
       "      <td>Bachelors</td>\n",
       "      <td>13</td>\n",
       "      <td>Married-civ-spouse</td>\n",
       "      <td>Exec-managerial</td>\n",
       "      <td>Husband</td>\n",
       "      <td>White</td>\n",
       "      <td>Male</td>\n",
       "      <td>0</td>\n",
       "      <td>0</td>\n",
       "      <td>13</td>\n",
       "      <td>United-States</td>\n",
       "      <td>&lt;=50K</td>\n",
       "    </tr>\n",
       "    <tr>\n",
       "      <th>2</th>\n",
       "      <td>38</td>\n",
       "      <td>Private</td>\n",
       "      <td>215646</td>\n",
       "      <td>HS-grad</td>\n",
       "      <td>9</td>\n",
       "      <td>Divorced</td>\n",
       "      <td>Handlers-cleaners</td>\n",
       "      <td>Not-in-family</td>\n",
       "      <td>White</td>\n",
       "      <td>Male</td>\n",
       "      <td>0</td>\n",
       "      <td>0</td>\n",
       "      <td>40</td>\n",
       "      <td>United-States</td>\n",
       "      <td>&lt;=50K</td>\n",
       "    </tr>\n",
       "    <tr>\n",
       "      <th>3</th>\n",
       "      <td>53</td>\n",
       "      <td>Private</td>\n",
       "      <td>234721</td>\n",
       "      <td>11th</td>\n",
       "      <td>7</td>\n",
       "      <td>Married-civ-spouse</td>\n",
       "      <td>Handlers-cleaners</td>\n",
       "      <td>Husband</td>\n",
       "      <td>Black</td>\n",
       "      <td>Male</td>\n",
       "      <td>0</td>\n",
       "      <td>0</td>\n",
       "      <td>40</td>\n",
       "      <td>United-States</td>\n",
       "      <td>&lt;=50K</td>\n",
       "    </tr>\n",
       "    <tr>\n",
       "      <th>4</th>\n",
       "      <td>28</td>\n",
       "      <td>Private</td>\n",
       "      <td>338409</td>\n",
       "      <td>Bachelors</td>\n",
       "      <td>13</td>\n",
       "      <td>Married-civ-spouse</td>\n",
       "      <td>Prof-specialty</td>\n",
       "      <td>Wife</td>\n",
       "      <td>Black</td>\n",
       "      <td>Female</td>\n",
       "      <td>0</td>\n",
       "      <td>0</td>\n",
       "      <td>40</td>\n",
       "      <td>Cuba</td>\n",
       "      <td>&lt;=50K</td>\n",
       "    </tr>\n",
       "  </tbody>\n",
       "</table>\n",
       "</div>"
      ],
      "text/plain": [
       "   age          workclass  final-weight   education  education-num  \\\n",
       "0   39          State-gov         77516   Bachelors             13   \n",
       "1   50   Self-emp-not-inc         83311   Bachelors             13   \n",
       "2   38            Private        215646     HS-grad              9   \n",
       "3   53            Private        234721        11th              7   \n",
       "4   28            Private        338409   Bachelors             13   \n",
       "\n",
       "        marital-status          occupation    relationship    race      sex  \\\n",
       "0        Never-married        Adm-clerical   Not-in-family   White     Male   \n",
       "1   Married-civ-spouse     Exec-managerial         Husband   White     Male   \n",
       "2             Divorced   Handlers-cleaners   Not-in-family   White     Male   \n",
       "3   Married-civ-spouse   Handlers-cleaners         Husband   Black     Male   \n",
       "4   Married-civ-spouse      Prof-specialty            Wife   Black   Female   \n",
       "\n",
       "   capital-gain  capital-loos  hour-per-week  native-country  income  \n",
       "0          2174             0             40   United-States   <=50K  \n",
       "1             0             0             13   United-States   <=50K  \n",
       "2             0             0             40   United-States   <=50K  \n",
       "3             0             0             40   United-States   <=50K  \n",
       "4             0             0             40            Cuba   <=50K  "
      ]
     },
     "execution_count": 47,
     "metadata": {},
     "output_type": "execute_result"
    }
   ],
   "source": [
    "import pandas as pd\n",
    "base = pd.read_csv('census.csv')\n",
    "base.head()"
   ]
  },
  {
   "cell_type": "code",
   "execution_count": 48,
   "metadata": {},
   "outputs": [
    {
     "data": {
      "text/plain": [
       "array([' <=50K', ' >50K'], dtype=object)"
      ]
     },
     "execution_count": 48,
     "metadata": {},
     "output_type": "execute_result"
    }
   ],
   "source": [
    "base['income'].unique()"
   ]
  },
  {
   "cell_type": "code",
   "execution_count": 49,
   "metadata": {},
   "outputs": [],
   "source": [
    "def converte_classe(rotulo):\n",
    "    if rotulo == ' >50K':\n",
    "        return 1\n",
    "    else:\n",
    "        return 0"
   ]
  },
  {
   "cell_type": "code",
   "execution_count": 50,
   "metadata": {},
   "outputs": [],
   "source": [
    "base['income'] = base['income'].apply(converte_classe)"
   ]
  },
  {
   "cell_type": "code",
   "execution_count": 51,
   "metadata": {},
   "outputs": [
    {
     "data": {
      "text/html": [
       "<div>\n",
       "<style scoped>\n",
       "    .dataframe tbody tr th:only-of-type {\n",
       "        vertical-align: middle;\n",
       "    }\n",
       "\n",
       "    .dataframe tbody tr th {\n",
       "        vertical-align: top;\n",
       "    }\n",
       "\n",
       "    .dataframe thead th {\n",
       "        text-align: right;\n",
       "    }\n",
       "</style>\n",
       "<table border=\"1\" class=\"dataframe\">\n",
       "  <thead>\n",
       "    <tr style=\"text-align: right;\">\n",
       "      <th></th>\n",
       "      <th>age</th>\n",
       "      <th>workclass</th>\n",
       "      <th>final-weight</th>\n",
       "      <th>education</th>\n",
       "      <th>education-num</th>\n",
       "      <th>marital-status</th>\n",
       "      <th>occupation</th>\n",
       "      <th>relationship</th>\n",
       "      <th>race</th>\n",
       "      <th>sex</th>\n",
       "      <th>capital-gain</th>\n",
       "      <th>capital-loos</th>\n",
       "      <th>hour-per-week</th>\n",
       "      <th>native-country</th>\n",
       "      <th>income</th>\n",
       "    </tr>\n",
       "  </thead>\n",
       "  <tbody>\n",
       "    <tr>\n",
       "      <th>0</th>\n",
       "      <td>39</td>\n",
       "      <td>State-gov</td>\n",
       "      <td>77516</td>\n",
       "      <td>Bachelors</td>\n",
       "      <td>13</td>\n",
       "      <td>Never-married</td>\n",
       "      <td>Adm-clerical</td>\n",
       "      <td>Not-in-family</td>\n",
       "      <td>White</td>\n",
       "      <td>Male</td>\n",
       "      <td>2174</td>\n",
       "      <td>0</td>\n",
       "      <td>40</td>\n",
       "      <td>United-States</td>\n",
       "      <td>0</td>\n",
       "    </tr>\n",
       "    <tr>\n",
       "      <th>1</th>\n",
       "      <td>50</td>\n",
       "      <td>Self-emp-not-inc</td>\n",
       "      <td>83311</td>\n",
       "      <td>Bachelors</td>\n",
       "      <td>13</td>\n",
       "      <td>Married-civ-spouse</td>\n",
       "      <td>Exec-managerial</td>\n",
       "      <td>Husband</td>\n",
       "      <td>White</td>\n",
       "      <td>Male</td>\n",
       "      <td>0</td>\n",
       "      <td>0</td>\n",
       "      <td>13</td>\n",
       "      <td>United-States</td>\n",
       "      <td>0</td>\n",
       "    </tr>\n",
       "    <tr>\n",
       "      <th>2</th>\n",
       "      <td>38</td>\n",
       "      <td>Private</td>\n",
       "      <td>215646</td>\n",
       "      <td>HS-grad</td>\n",
       "      <td>9</td>\n",
       "      <td>Divorced</td>\n",
       "      <td>Handlers-cleaners</td>\n",
       "      <td>Not-in-family</td>\n",
       "      <td>White</td>\n",
       "      <td>Male</td>\n",
       "      <td>0</td>\n",
       "      <td>0</td>\n",
       "      <td>40</td>\n",
       "      <td>United-States</td>\n",
       "      <td>0</td>\n",
       "    </tr>\n",
       "    <tr>\n",
       "      <th>3</th>\n",
       "      <td>53</td>\n",
       "      <td>Private</td>\n",
       "      <td>234721</td>\n",
       "      <td>11th</td>\n",
       "      <td>7</td>\n",
       "      <td>Married-civ-spouse</td>\n",
       "      <td>Handlers-cleaners</td>\n",
       "      <td>Husband</td>\n",
       "      <td>Black</td>\n",
       "      <td>Male</td>\n",
       "      <td>0</td>\n",
       "      <td>0</td>\n",
       "      <td>40</td>\n",
       "      <td>United-States</td>\n",
       "      <td>0</td>\n",
       "    </tr>\n",
       "    <tr>\n",
       "      <th>4</th>\n",
       "      <td>28</td>\n",
       "      <td>Private</td>\n",
       "      <td>338409</td>\n",
       "      <td>Bachelors</td>\n",
       "      <td>13</td>\n",
       "      <td>Married-civ-spouse</td>\n",
       "      <td>Prof-specialty</td>\n",
       "      <td>Wife</td>\n",
       "      <td>Black</td>\n",
       "      <td>Female</td>\n",
       "      <td>0</td>\n",
       "      <td>0</td>\n",
       "      <td>40</td>\n",
       "      <td>Cuba</td>\n",
       "      <td>0</td>\n",
       "    </tr>\n",
       "  </tbody>\n",
       "</table>\n",
       "</div>"
      ],
      "text/plain": [
       "   age          workclass  final-weight   education  education-num  \\\n",
       "0   39          State-gov         77516   Bachelors             13   \n",
       "1   50   Self-emp-not-inc         83311   Bachelors             13   \n",
       "2   38            Private        215646     HS-grad              9   \n",
       "3   53            Private        234721        11th              7   \n",
       "4   28            Private        338409   Bachelors             13   \n",
       "\n",
       "        marital-status          occupation    relationship    race      sex  \\\n",
       "0        Never-married        Adm-clerical   Not-in-family   White     Male   \n",
       "1   Married-civ-spouse     Exec-managerial         Husband   White     Male   \n",
       "2             Divorced   Handlers-cleaners   Not-in-family   White     Male   \n",
       "3   Married-civ-spouse   Handlers-cleaners         Husband   Black     Male   \n",
       "4   Married-civ-spouse      Prof-specialty            Wife   Black   Female   \n",
       "\n",
       "   capital-gain  capital-loos  hour-per-week  native-country  income  \n",
       "0          2174             0             40   United-States       0  \n",
       "1             0             0             13   United-States       0  \n",
       "2             0             0             40   United-States       0  \n",
       "3             0             0             40   United-States       0  \n",
       "4             0             0             40            Cuba       0  "
      ]
     },
     "execution_count": 51,
     "metadata": {},
     "output_type": "execute_result"
    }
   ],
   "source": [
    "base.head()"
   ]
  },
  {
   "cell_type": "code",
   "execution_count": 52,
   "metadata": {},
   "outputs": [
    {
     "data": {
      "text/plain": [
       "array([0, 1])"
      ]
     },
     "execution_count": 52,
     "metadata": {},
     "output_type": "execute_result"
    }
   ],
   "source": [
    "base['income'].unique()"
   ]
  },
  {
   "cell_type": "code",
   "execution_count": 53,
   "metadata": {},
   "outputs": [],
   "source": [
    "X = base.drop('income', axis = 1)"
   ]
  },
  {
   "cell_type": "code",
   "execution_count": 54,
   "metadata": {},
   "outputs": [
    {
     "data": {
      "text/html": [
       "<div>\n",
       "<style scoped>\n",
       "    .dataframe tbody tr th:only-of-type {\n",
       "        vertical-align: middle;\n",
       "    }\n",
       "\n",
       "    .dataframe tbody tr th {\n",
       "        vertical-align: top;\n",
       "    }\n",
       "\n",
       "    .dataframe thead th {\n",
       "        text-align: right;\n",
       "    }\n",
       "</style>\n",
       "<table border=\"1\" class=\"dataframe\">\n",
       "  <thead>\n",
       "    <tr style=\"text-align: right;\">\n",
       "      <th></th>\n",
       "      <th>age</th>\n",
       "      <th>workclass</th>\n",
       "      <th>final-weight</th>\n",
       "      <th>education</th>\n",
       "      <th>education-num</th>\n",
       "      <th>marital-status</th>\n",
       "      <th>occupation</th>\n",
       "      <th>relationship</th>\n",
       "      <th>race</th>\n",
       "      <th>sex</th>\n",
       "      <th>capital-gain</th>\n",
       "      <th>capital-loos</th>\n",
       "      <th>hour-per-week</th>\n",
       "      <th>native-country</th>\n",
       "    </tr>\n",
       "  </thead>\n",
       "  <tbody>\n",
       "    <tr>\n",
       "      <th>0</th>\n",
       "      <td>39</td>\n",
       "      <td>State-gov</td>\n",
       "      <td>77516</td>\n",
       "      <td>Bachelors</td>\n",
       "      <td>13</td>\n",
       "      <td>Never-married</td>\n",
       "      <td>Adm-clerical</td>\n",
       "      <td>Not-in-family</td>\n",
       "      <td>White</td>\n",
       "      <td>Male</td>\n",
       "      <td>2174</td>\n",
       "      <td>0</td>\n",
       "      <td>40</td>\n",
       "      <td>United-States</td>\n",
       "    </tr>\n",
       "    <tr>\n",
       "      <th>1</th>\n",
       "      <td>50</td>\n",
       "      <td>Self-emp-not-inc</td>\n",
       "      <td>83311</td>\n",
       "      <td>Bachelors</td>\n",
       "      <td>13</td>\n",
       "      <td>Married-civ-spouse</td>\n",
       "      <td>Exec-managerial</td>\n",
       "      <td>Husband</td>\n",
       "      <td>White</td>\n",
       "      <td>Male</td>\n",
       "      <td>0</td>\n",
       "      <td>0</td>\n",
       "      <td>13</td>\n",
       "      <td>United-States</td>\n",
       "    </tr>\n",
       "    <tr>\n",
       "      <th>2</th>\n",
       "      <td>38</td>\n",
       "      <td>Private</td>\n",
       "      <td>215646</td>\n",
       "      <td>HS-grad</td>\n",
       "      <td>9</td>\n",
       "      <td>Divorced</td>\n",
       "      <td>Handlers-cleaners</td>\n",
       "      <td>Not-in-family</td>\n",
       "      <td>White</td>\n",
       "      <td>Male</td>\n",
       "      <td>0</td>\n",
       "      <td>0</td>\n",
       "      <td>40</td>\n",
       "      <td>United-States</td>\n",
       "    </tr>\n",
       "    <tr>\n",
       "      <th>3</th>\n",
       "      <td>53</td>\n",
       "      <td>Private</td>\n",
       "      <td>234721</td>\n",
       "      <td>11th</td>\n",
       "      <td>7</td>\n",
       "      <td>Married-civ-spouse</td>\n",
       "      <td>Handlers-cleaners</td>\n",
       "      <td>Husband</td>\n",
       "      <td>Black</td>\n",
       "      <td>Male</td>\n",
       "      <td>0</td>\n",
       "      <td>0</td>\n",
       "      <td>40</td>\n",
       "      <td>United-States</td>\n",
       "    </tr>\n",
       "    <tr>\n",
       "      <th>4</th>\n",
       "      <td>28</td>\n",
       "      <td>Private</td>\n",
       "      <td>338409</td>\n",
       "      <td>Bachelors</td>\n",
       "      <td>13</td>\n",
       "      <td>Married-civ-spouse</td>\n",
       "      <td>Prof-specialty</td>\n",
       "      <td>Wife</td>\n",
       "      <td>Black</td>\n",
       "      <td>Female</td>\n",
       "      <td>0</td>\n",
       "      <td>0</td>\n",
       "      <td>40</td>\n",
       "      <td>Cuba</td>\n",
       "    </tr>\n",
       "  </tbody>\n",
       "</table>\n",
       "</div>"
      ],
      "text/plain": [
       "   age          workclass  final-weight   education  education-num  \\\n",
       "0   39          State-gov         77516   Bachelors             13   \n",
       "1   50   Self-emp-not-inc         83311   Bachelors             13   \n",
       "2   38            Private        215646     HS-grad              9   \n",
       "3   53            Private        234721        11th              7   \n",
       "4   28            Private        338409   Bachelors             13   \n",
       "\n",
       "        marital-status          occupation    relationship    race      sex  \\\n",
       "0        Never-married        Adm-clerical   Not-in-family   White     Male   \n",
       "1   Married-civ-spouse     Exec-managerial         Husband   White     Male   \n",
       "2             Divorced   Handlers-cleaners   Not-in-family   White     Male   \n",
       "3   Married-civ-spouse   Handlers-cleaners         Husband   Black     Male   \n",
       "4   Married-civ-spouse      Prof-specialty            Wife   Black   Female   \n",
       "\n",
       "   capital-gain  capital-loos  hour-per-week  native-country  \n",
       "0          2174             0             40   United-States  \n",
       "1             0             0             13   United-States  \n",
       "2             0             0             40   United-States  \n",
       "3             0             0             40   United-States  \n",
       "4             0             0             40            Cuba  "
      ]
     },
     "execution_count": 54,
     "metadata": {},
     "output_type": "execute_result"
    }
   ],
   "source": [
    "X.head()"
   ]
  },
  {
   "cell_type": "code",
   "execution_count": 55,
   "metadata": {},
   "outputs": [],
   "source": [
    "y = base['income']"
   ]
  },
  {
   "cell_type": "code",
   "execution_count": 56,
   "metadata": {},
   "outputs": [
    {
     "data": {
      "text/plain": [
       "0    0\n",
       "1    0\n",
       "2    0\n",
       "3    0\n",
       "4    0\n",
       "Name: income, dtype: int64"
      ]
     },
     "execution_count": 56,
     "metadata": {},
     "output_type": "execute_result"
    }
   ],
   "source": [
    "y.head()"
   ]
  },
  {
   "cell_type": "code",
   "execution_count": 57,
   "metadata": {},
   "outputs": [
    {
     "data": {
      "text/plain": [
       "pandas.core.series.Series"
      ]
     },
     "execution_count": 57,
     "metadata": {},
     "output_type": "execute_result"
    }
   ],
   "source": [
    "type(y)"
   ]
  },
  {
   "cell_type": "code",
   "execution_count": null,
   "metadata": {},
   "outputs": [],
   "source": [
    "%matplotlib inline\n",
    "base.age.hist()"
   ]
  },
  {
   "cell_type": "code",
   "execution_count": 58,
   "metadata": {},
   "outputs": [],
   "source": [
    "import tensorflow as tf"
   ]
  },
  {
   "cell_type": "code",
   "execution_count": 59,
   "metadata": {},
   "outputs": [],
   "source": [
    "idade = tf.feature_column.numeric_column('age')"
   ]
  },
  {
   "cell_type": "code",
   "execution_count": 60,
   "metadata": {},
   "outputs": [],
   "source": [
    "idade_categorica = [tf.feature_column.bucketized_column(idade, boundaries=[20,30,40,50,60,70,80,90])]"
   ]
  },
  {
   "cell_type": "code",
   "execution_count": 61,
   "metadata": {},
   "outputs": [
    {
     "name": "stdout",
     "output_type": "stream",
     "text": [
      "[_BucketizedColumn(source_column=_NumericColumn(key='age', shape=(1,), default_value=None, dtype=tf.float32, normalizer_fn=None), boundaries=(20, 30, 40, 50, 60, 70, 80, 90))]\n"
     ]
    }
   ],
   "source": [
    "print(idade_categorica)"
   ]
  },
  {
   "cell_type": "code",
   "execution_count": 62,
   "metadata": {},
   "outputs": [
    {
     "data": {
      "text/plain": [
       "Index(['age', 'workclass', 'final-weight', 'education', 'education-num',\n",
       "       'marital-status', 'occupation', 'relationship', 'race', 'sex',\n",
       "       'capital-gain', 'capital-loos', 'hour-per-week', 'native-country'],\n",
       "      dtype='object')"
      ]
     },
     "execution_count": 62,
     "metadata": {},
     "output_type": "execute_result"
    }
   ],
   "source": [
    "X.columns"
   ]
  },
  {
   "cell_type": "code",
   "execution_count": 63,
   "metadata": {},
   "outputs": [],
   "source": [
    "nome_colunas_categoricas = ['workclass', 'education', 'marital-status', 'occupation', 'relationship', 'race', 'sex',\n",
    "                           'native-country']"
   ]
  },
  {
   "cell_type": "code",
   "execution_count": 64,
   "metadata": {},
   "outputs": [
    {
     "data": {
      "text/plain": [
       "array([' Male', ' Female'], dtype=object)"
      ]
     },
     "execution_count": 64,
     "metadata": {},
     "output_type": "execute_result"
    }
   ],
   "source": [
    "X['sex'].unique()"
   ]
  },
  {
   "cell_type": "code",
   "execution_count": 65,
   "metadata": {},
   "outputs": [
    {
     "data": {
      "text/plain": [
       "array([' State-gov', ' Self-emp-not-inc', ' Private', ' Federal-gov',\n",
       "       ' Local-gov', ' ?', ' Self-emp-inc', ' Without-pay',\n",
       "       ' Never-worked'], dtype=object)"
      ]
     },
     "execution_count": 65,
     "metadata": {},
     "output_type": "execute_result"
    }
   ],
   "source": [
    "X['workclass'].unique()"
   ]
  },
  {
   "cell_type": "code",
   "execution_count": 66,
   "metadata": {},
   "outputs": [
    {
     "data": {
      "text/plain": [
       "array([' United-States', ' Cuba', ' Jamaica', ' India', ' ?', ' Mexico',\n",
       "       ' South', ' Puerto-Rico', ' Honduras', ' England', ' Canada',\n",
       "       ' Germany', ' Iran', ' Philippines', ' Italy', ' Poland',\n",
       "       ' Columbia', ' Cambodia', ' Thailand', ' Ecuador', ' Laos',\n",
       "       ' Taiwan', ' Haiti', ' Portugal', ' Dominican-Republic',\n",
       "       ' El-Salvador', ' France', ' Guatemala', ' China', ' Japan',\n",
       "       ' Yugoslavia', ' Peru', ' Outlying-US(Guam-USVI-etc)', ' Scotland',\n",
       "       ' Trinadad&Tobago', ' Greece', ' Nicaragua', ' Vietnam', ' Hong',\n",
       "       ' Ireland', ' Hungary', ' Holand-Netherlands'], dtype=object)"
      ]
     },
     "execution_count": 66,
     "metadata": {},
     "output_type": "execute_result"
    }
   ],
   "source": [
    "X['native-country'].unique()"
   ]
  },
  {
   "cell_type": "code",
   "execution_count": 67,
   "metadata": {},
   "outputs": [],
   "source": [
    "colunas_categoricas = [tf.feature_column.categorical_column_with_vocabulary_list(key = c, vocabulary_list=X[c].unique()) for c in nome_colunas_categoricas]"
   ]
  },
  {
   "cell_type": "code",
   "execution_count": 68,
   "metadata": {},
   "outputs": [
    {
     "name": "stdout",
     "output_type": "stream",
     "text": [
      "_VocabularyListCategoricalColumn(key='native-country', vocabulary_list=(' United-States', ' Cuba', ' Jamaica', ' India', ' ?', ' Mexico', ' South', ' Puerto-Rico', ' Honduras', ' England', ' Canada', ' Germany', ' Iran', ' Philippines', ' Italy', ' Poland', ' Columbia', ' Cambodia', ' Thailand', ' Ecuador', ' Laos', ' Taiwan', ' Haiti', ' Portugal', ' Dominican-Republic', ' El-Salvador', ' France', ' Guatemala', ' China', ' Japan', ' Yugoslavia', ' Peru', ' Outlying-US(Guam-USVI-etc)', ' Scotland', ' Trinadad&Tobago', ' Greece', ' Nicaragua', ' Vietnam', ' Hong', ' Ireland', ' Hungary', ' Holand-Netherlands'), dtype=tf.string, default_value=-1, num_oov_buckets=0)\n"
     ]
    }
   ],
   "source": [
    "print(colunas_categoricas[7])"
   ]
  },
  {
   "cell_type": "code",
   "execution_count": 69,
   "metadata": {},
   "outputs": [],
   "source": [
    "nome_colunas_numericas = ['final-weight', 'education-num', 'capital-gain', 'capital-loos', 'hour-per-week']"
   ]
  },
  {
   "cell_type": "code",
   "execution_count": 70,
   "metadata": {},
   "outputs": [],
   "source": [
    "colunas_numericas = [ tf.feature_column.numeric_column(key = c) for c in nome_colunas_numericas ]"
   ]
  },
  {
   "cell_type": "code",
   "execution_count": 71,
   "metadata": {},
   "outputs": [
    {
     "name": "stdout",
     "output_type": "stream",
     "text": [
      "_NumericColumn(key='education-num', shape=(1,), default_value=None, dtype=tf.float32, normalizer_fn=None)\n"
     ]
    }
   ],
   "source": [
    "print(colunas_numericas[1])"
   ]
  },
  {
   "cell_type": "code",
   "execution_count": 72,
   "metadata": {},
   "outputs": [],
   "source": [
    "colunas = idade_categorica + colunas_categoricas + colunas_numericas"
   ]
  },
  {
   "cell_type": "code",
   "execution_count": 73,
   "metadata": {},
   "outputs": [],
   "source": [
    "from sklearn.model_selection import train_test_split\n",
    "X_treinamento, X_teste, y_treinamento, y_teste = train_test_split(X, y, test_size = 0.3)"
   ]
  },
  {
   "cell_type": "code",
   "execution_count": 74,
   "metadata": {},
   "outputs": [
    {
     "data": {
      "text/plain": [
       "pandas.core.frame.DataFrame"
      ]
     },
     "execution_count": 74,
     "metadata": {},
     "output_type": "execute_result"
    }
   ],
   "source": [
    "X_treinamento.shape\n",
    "type(X_treinamento)"
   ]
  },
  {
   "cell_type": "code",
   "execution_count": 75,
   "metadata": {},
   "outputs": [
    {
     "data": {
      "text/plain": [
       "pandas.core.series.Series"
      ]
     },
     "execution_count": 75,
     "metadata": {},
     "output_type": "execute_result"
    }
   ],
   "source": [
    "X_teste.shape\n",
    "type(y_treinamento)"
   ]
  },
  {
   "cell_type": "code",
   "execution_count": 76,
   "metadata": {},
   "outputs": [],
   "source": [
    "funcao_treinamento = tf.estimator.inputs.pandas_input_fn(x = X_treinamento, y = y_treinamento,\n",
    "                                                        batch_size = 32, num_epochs = None, shuffle = True)"
   ]
  },
  {
   "cell_type": "code",
   "execution_count": 77,
   "metadata": {},
   "outputs": [
    {
     "name": "stdout",
     "output_type": "stream",
     "text": [
      "INFO:tensorflow:Using default config.\n",
      "WARNING:tensorflow:Using temporary folder as model directory: /tmp/tmp2faq53dd\n",
      "INFO:tensorflow:Using config: {'_model_dir': '/tmp/tmp2faq53dd', '_tf_random_seed': None, '_save_summary_steps': 100, '_save_checkpoints_steps': None, '_save_checkpoints_secs': 600, '_session_config': allow_soft_placement: true\n",
      "graph_options {\n",
      "  rewrite_options {\n",
      "    meta_optimizer_iterations: ONE\n",
      "  }\n",
      "}\n",
      ", '_keep_checkpoint_max': 5, '_keep_checkpoint_every_n_hours': 10000, '_log_step_count_steps': 100, '_train_distribute': None, '_device_fn': None, '_protocol': None, '_eval_distribute': None, '_experimental_distribute': None, '_service': None, '_cluster_spec': <tensorflow.python.training.server_lib.ClusterSpec object at 0x7f6ddb187be0>, '_task_type': 'worker', '_task_id': 0, '_global_id_in_cluster': 0, '_master': '', '_evaluation_master': '', '_is_chief': True, '_num_ps_replicas': 0, '_num_worker_replicas': 1}\n"
     ]
    }
   ],
   "source": [
    "classificador = tf.estimator.LinearClassifier(feature_columns=colunas)"
   ]
  },
  {
   "cell_type": "code",
   "execution_count": 78,
   "metadata": {
    "scrolled": true
   },
   "outputs": [
    {
     "name": "stdout",
     "output_type": "stream",
     "text": [
      "INFO:tensorflow:Calling model_fn.\n",
      "INFO:tensorflow:Done calling model_fn.\n",
      "INFO:tensorflow:Create CheckpointSaverHook.\n",
      "INFO:tensorflow:Graph was finalized.\n",
      "INFO:tensorflow:Running local_init_op.\n",
      "INFO:tensorflow:Done running local_init_op.\n",
      "INFO:tensorflow:Saving checkpoints for 0 into /tmp/tmp2faq53dd/model.ckpt.\n",
      "INFO:tensorflow:loss = 22.18071, step = 1\n",
      "INFO:tensorflow:global_step/sec: 68.9924\n",
      "INFO:tensorflow:loss = 17426.488, step = 101 (1.451 sec)\n",
      "INFO:tensorflow:global_step/sec: 187.282\n",
      "INFO:tensorflow:loss = 8058.8896, step = 201 (0.540 sec)\n",
      "INFO:tensorflow:global_step/sec: 171.028\n",
      "INFO:tensorflow:loss = 778.90247, step = 301 (0.582 sec)\n",
      "INFO:tensorflow:global_step/sec: 175.012\n",
      "INFO:tensorflow:loss = 38025.14, step = 401 (0.575 sec)\n",
      "INFO:tensorflow:global_step/sec: 129.978\n",
      "INFO:tensorflow:loss = 4519.9023, step = 501 (0.766 sec)\n",
      "INFO:tensorflow:global_step/sec: 148.231\n",
      "INFO:tensorflow:loss = 3520.4204, step = 601 (0.675 sec)\n",
      "INFO:tensorflow:global_step/sec: 150.435\n",
      "INFO:tensorflow:loss = 2536.0103, step = 701 (0.676 sec)\n",
      "INFO:tensorflow:global_step/sec: 156.444\n",
      "INFO:tensorflow:loss = 1103.656, step = 801 (0.627 sec)\n",
      "INFO:tensorflow:global_step/sec: 136.465\n",
      "INFO:tensorflow:loss = 15319.795, step = 901 (0.733 sec)\n",
      "INFO:tensorflow:global_step/sec: 132.489\n",
      "INFO:tensorflow:loss = 13104.128, step = 1001 (0.761 sec)\n",
      "INFO:tensorflow:global_step/sec: 144.836\n",
      "INFO:tensorflow:loss = 3867.5513, step = 1101 (0.685 sec)\n",
      "INFO:tensorflow:global_step/sec: 143.084\n",
      "INFO:tensorflow:loss = 7083.325, step = 1201 (0.700 sec)\n",
      "INFO:tensorflow:global_step/sec: 141.385\n",
      "INFO:tensorflow:loss = 4992.551, step = 1301 (0.714 sec)\n",
      "INFO:tensorflow:global_step/sec: 114.351\n",
      "INFO:tensorflow:loss = 1693.8452, step = 1401 (0.864 sec)\n",
      "INFO:tensorflow:global_step/sec: 138.278\n",
      "INFO:tensorflow:loss = 973.9387, step = 1501 (0.726 sec)\n",
      "INFO:tensorflow:global_step/sec: 130.812\n",
      "INFO:tensorflow:loss = 1210.6204, step = 1601 (0.769 sec)\n",
      "INFO:tensorflow:global_step/sec: 153.641\n",
      "INFO:tensorflow:loss = 834.17993, step = 1701 (0.660 sec)\n",
      "INFO:tensorflow:global_step/sec: 129.891\n",
      "INFO:tensorflow:loss = 8324.872, step = 1801 (0.754 sec)\n",
      "INFO:tensorflow:global_step/sec: 143.909\n",
      "INFO:tensorflow:loss = 4451.431, step = 1901 (0.699 sec)\n",
      "INFO:tensorflow:global_step/sec: 146.404\n",
      "INFO:tensorflow:loss = 1181.5469, step = 2001 (0.683 sec)\n",
      "INFO:tensorflow:global_step/sec: 126.436\n",
      "INFO:tensorflow:loss = 6234.9697, step = 2101 (0.792 sec)\n",
      "INFO:tensorflow:global_step/sec: 148.323\n",
      "INFO:tensorflow:loss = 4734.2354, step = 2201 (0.675 sec)\n",
      "INFO:tensorflow:global_step/sec: 146.591\n",
      "INFO:tensorflow:loss = 4748.17, step = 2301 (0.681 sec)\n",
      "INFO:tensorflow:global_step/sec: 143.686\n",
      "INFO:tensorflow:loss = 5414.7188, step = 2401 (0.692 sec)\n",
      "INFO:tensorflow:global_step/sec: 109.411\n",
      "INFO:tensorflow:loss = 2737.7368, step = 2501 (0.914 sec)\n",
      "INFO:tensorflow:global_step/sec: 139.74\n",
      "INFO:tensorflow:loss = 1634.5839, step = 2601 (0.715 sec)\n",
      "INFO:tensorflow:global_step/sec: 127.596\n",
      "INFO:tensorflow:loss = 6697.9053, step = 2701 (0.784 sec)\n",
      "INFO:tensorflow:global_step/sec: 134.857\n",
      "INFO:tensorflow:loss = 1156.9202, step = 2801 (0.760 sec)\n",
      "INFO:tensorflow:global_step/sec: 143.981\n",
      "INFO:tensorflow:loss = 5200.902, step = 2901 (0.678 sec)\n",
      "INFO:tensorflow:global_step/sec: 109.327\n",
      "INFO:tensorflow:loss = 2823.6616, step = 3001 (0.916 sec)\n",
      "INFO:tensorflow:global_step/sec: 124.135\n",
      "INFO:tensorflow:loss = 13147.165, step = 3101 (0.809 sec)\n",
      "INFO:tensorflow:global_step/sec: 145.186\n",
      "INFO:tensorflow:loss = 3888.3096, step = 3201 (0.685 sec)\n",
      "INFO:tensorflow:global_step/sec: 140.171\n",
      "INFO:tensorflow:loss = 1508.187, step = 3301 (0.715 sec)\n",
      "INFO:tensorflow:global_step/sec: 128.039\n",
      "INFO:tensorflow:loss = 7159.5854, step = 3401 (0.783 sec)\n",
      "INFO:tensorflow:global_step/sec: 146.226\n",
      "INFO:tensorflow:loss = 1740.7965, step = 3501 (0.677 sec)\n",
      "INFO:tensorflow:global_step/sec: 141.71\n",
      "INFO:tensorflow:loss = 6078.9507, step = 3601 (0.710 sec)\n",
      "INFO:tensorflow:global_step/sec: 128.319\n",
      "INFO:tensorflow:loss = 1115.7198, step = 3701 (0.778 sec)\n",
      "INFO:tensorflow:global_step/sec: 133.069\n",
      "INFO:tensorflow:loss = 5679.28, step = 3801 (0.749 sec)\n",
      "INFO:tensorflow:global_step/sec: 145.11\n",
      "INFO:tensorflow:loss = 4726.201, step = 3901 (0.689 sec)\n",
      "INFO:tensorflow:global_step/sec: 131.046\n",
      "INFO:tensorflow:loss = 969.8971, step = 4001 (0.764 sec)\n",
      "INFO:tensorflow:global_step/sec: 134.753\n",
      "INFO:tensorflow:loss = 4399.881, step = 4101 (0.742 sec)\n",
      "INFO:tensorflow:global_step/sec: 123.723\n",
      "INFO:tensorflow:loss = 701.45325, step = 4201 (0.808 sec)\n",
      "INFO:tensorflow:global_step/sec: 138.456\n",
      "INFO:tensorflow:loss = 3369.3098, step = 4301 (0.722 sec)\n",
      "INFO:tensorflow:global_step/sec: 119.905\n",
      "INFO:tensorflow:loss = 8469.639, step = 4401 (0.842 sec)\n",
      "INFO:tensorflow:global_step/sec: 101.255\n",
      "INFO:tensorflow:loss = 2115.7085, step = 4501 (0.986 sec)\n",
      "INFO:tensorflow:global_step/sec: 87.5587\n",
      "INFO:tensorflow:loss = 938.5083, step = 4601 (1.142 sec)\n",
      "INFO:tensorflow:global_step/sec: 121.156\n",
      "INFO:tensorflow:loss = 11095.016, step = 4701 (0.823 sec)\n",
      "INFO:tensorflow:global_step/sec: 149.13\n",
      "INFO:tensorflow:loss = 397.7669, step = 4801 (0.667 sec)\n",
      "INFO:tensorflow:global_step/sec: 145.851\n",
      "INFO:tensorflow:loss = 853.0086, step = 4901 (0.686 sec)\n",
      "INFO:tensorflow:global_step/sec: 144.697\n",
      "INFO:tensorflow:loss = 392.22443, step = 5001 (0.691 sec)\n",
      "INFO:tensorflow:global_step/sec: 117.687\n",
      "INFO:tensorflow:loss = 4067.5393, step = 5101 (0.850 sec)\n",
      "INFO:tensorflow:global_step/sec: 90.7263\n",
      "INFO:tensorflow:loss = 1442.0773, step = 5201 (1.102 sec)\n",
      "INFO:tensorflow:global_step/sec: 122.767\n",
      "INFO:tensorflow:loss = 1368.71, step = 5301 (0.814 sec)\n",
      "INFO:tensorflow:global_step/sec: 113.174\n",
      "INFO:tensorflow:loss = 576.4753, step = 5401 (0.889 sec)\n",
      "INFO:tensorflow:global_step/sec: 102.058\n",
      "INFO:tensorflow:loss = 4996.704, step = 5501 (0.975 sec)\n",
      "INFO:tensorflow:global_step/sec: 106.582\n",
      "INFO:tensorflow:loss = 2225.5588, step = 5601 (0.941 sec)\n",
      "INFO:tensorflow:global_step/sec: 150.379\n",
      "INFO:tensorflow:loss = 5772.2817, step = 5701 (0.668 sec)\n",
      "INFO:tensorflow:global_step/sec: 151.792\n",
      "INFO:tensorflow:loss = 2510.253, step = 5801 (0.657 sec)\n",
      "INFO:tensorflow:global_step/sec: 98.8854\n",
      "INFO:tensorflow:loss = 2433.5618, step = 5901 (1.017 sec)\n",
      "INFO:tensorflow:global_step/sec: 131.386\n",
      "INFO:tensorflow:loss = 2108.475, step = 6001 (0.753 sec)\n",
      "INFO:tensorflow:global_step/sec: 140.984\n",
      "INFO:tensorflow:loss = 480.64978, step = 6101 (0.710 sec)\n",
      "INFO:tensorflow:global_step/sec: 132.891\n",
      "INFO:tensorflow:loss = 237.27478, step = 6201 (0.751 sec)\n",
      "INFO:tensorflow:global_step/sec: 136.628\n",
      "INFO:tensorflow:loss = 434.8268, step = 6301 (0.732 sec)\n",
      "INFO:tensorflow:global_step/sec: 124.593\n",
      "INFO:tensorflow:loss = 4500.7783, step = 6401 (0.803 sec)\n",
      "INFO:tensorflow:global_step/sec: 124.421\n",
      "INFO:tensorflow:loss = 535.2892, step = 6501 (0.803 sec)\n",
      "INFO:tensorflow:global_step/sec: 121.375\n",
      "INFO:tensorflow:loss = 1515.2205, step = 6601 (0.824 sec)\n",
      "INFO:tensorflow:global_step/sec: 156.524\n",
      "INFO:tensorflow:loss = 535.56525, step = 6701 (0.641 sec)\n",
      "INFO:tensorflow:global_step/sec: 141.807\n",
      "INFO:tensorflow:loss = 1254.0865, step = 6801 (0.705 sec)\n",
      "INFO:tensorflow:global_step/sec: 135.1\n",
      "INFO:tensorflow:loss = 180.47104, step = 6901 (0.748 sec)\n",
      "INFO:tensorflow:global_step/sec: 139.392\n",
      "INFO:tensorflow:loss = 2743.75, step = 7001 (0.715 sec)\n",
      "INFO:tensorflow:global_step/sec: 140.052\n",
      "INFO:tensorflow:loss = 565.8695, step = 7101 (0.708 sec)\n",
      "INFO:tensorflow:global_step/sec: 117.94\n",
      "INFO:tensorflow:loss = 532.9994, step = 7201 (0.850 sec)\n",
      "INFO:tensorflow:global_step/sec: 117.916\n",
      "INFO:tensorflow:loss = 1484.1869, step = 7301 (0.845 sec)\n",
      "INFO:tensorflow:global_step/sec: 121.506\n",
      "INFO:tensorflow:loss = 0.0015317033, step = 7401 (0.829 sec)\n",
      "INFO:tensorflow:global_step/sec: 129.975\n",
      "INFO:tensorflow:loss = 3704.3726, step = 7501 (0.767 sec)\n",
      "INFO:tensorflow:global_step/sec: 122.883\n",
      "INFO:tensorflow:loss = 279.5995, step = 7601 (0.813 sec)\n",
      "INFO:tensorflow:global_step/sec: 113.464\n",
      "INFO:tensorflow:loss = 446.9662, step = 7701 (0.882 sec)\n",
      "INFO:tensorflow:global_step/sec: 103.219\n",
      "INFO:tensorflow:loss = 2684.1152, step = 7801 (0.972 sec)\n",
      "INFO:tensorflow:global_step/sec: 100.079\n",
      "INFO:tensorflow:loss = 2350.4248, step = 7901 (0.997 sec)\n",
      "INFO:tensorflow:global_step/sec: 147.315\n",
      "INFO:tensorflow:loss = 706.8209, step = 8001 (0.674 sec)\n"
     ]
    },
    {
     "name": "stdout",
     "output_type": "stream",
     "text": [
      "INFO:tensorflow:global_step/sec: 136.181\n",
      "INFO:tensorflow:loss = 451.7268, step = 8101 (0.741 sec)\n",
      "INFO:tensorflow:global_step/sec: 138.207\n",
      "INFO:tensorflow:loss = 509.4805, step = 8201 (0.717 sec)\n",
      "INFO:tensorflow:global_step/sec: 145.224\n",
      "INFO:tensorflow:loss = 1497.1812, step = 8301 (0.689 sec)\n",
      "INFO:tensorflow:global_step/sec: 135.658\n",
      "INFO:tensorflow:loss = 2188.8726, step = 8401 (0.737 sec)\n",
      "INFO:tensorflow:global_step/sec: 140.714\n",
      "INFO:tensorflow:loss = 1314.6506, step = 8501 (0.711 sec)\n",
      "INFO:tensorflow:global_step/sec: 135.646\n",
      "INFO:tensorflow:loss = 3720.7456, step = 8601 (0.737 sec)\n",
      "INFO:tensorflow:global_step/sec: 163.531\n",
      "INFO:tensorflow:loss = 1097.5215, step = 8701 (0.611 sec)\n",
      "INFO:tensorflow:global_step/sec: 151.589\n",
      "INFO:tensorflow:loss = 6187.822, step = 8801 (0.660 sec)\n",
      "INFO:tensorflow:global_step/sec: 156.86\n",
      "INFO:tensorflow:loss = 2557.0781, step = 8901 (0.637 sec)\n",
      "INFO:tensorflow:global_step/sec: 142.219\n",
      "INFO:tensorflow:loss = 3793.7354, step = 9001 (0.705 sec)\n",
      "INFO:tensorflow:global_step/sec: 152.08\n",
      "INFO:tensorflow:loss = 1134.4993, step = 9101 (0.655 sec)\n",
      "INFO:tensorflow:global_step/sec: 155.157\n",
      "INFO:tensorflow:loss = 745.87305, step = 9201 (0.645 sec)\n",
      "INFO:tensorflow:global_step/sec: 154.736\n",
      "INFO:tensorflow:loss = 91.27012, step = 9301 (0.646 sec)\n",
      "INFO:tensorflow:global_step/sec: 162.425\n",
      "INFO:tensorflow:loss = 782.01154, step = 9401 (0.615 sec)\n",
      "INFO:tensorflow:global_step/sec: 156.319\n",
      "INFO:tensorflow:loss = 418.6573, step = 9501 (0.640 sec)\n",
      "INFO:tensorflow:global_step/sec: 150.093\n",
      "INFO:tensorflow:loss = 837.35046, step = 9601 (0.667 sec)\n",
      "INFO:tensorflow:global_step/sec: 141.077\n",
      "INFO:tensorflow:loss = 226.10988, step = 9701 (0.714 sec)\n",
      "INFO:tensorflow:global_step/sec: 138.878\n",
      "INFO:tensorflow:loss = 2223.2146, step = 9801 (0.714 sec)\n",
      "INFO:tensorflow:global_step/sec: 153.725\n",
      "INFO:tensorflow:loss = 1726.171, step = 9901 (0.650 sec)\n",
      "INFO:tensorflow:Saving checkpoints for 10000 into /tmp/tmp2faq53dd/model.ckpt.\n",
      "INFO:tensorflow:Loss for final step: 3512.857.\n"
     ]
    },
    {
     "data": {
      "text/plain": [
       "<tensorflow.python.estimator.canned.linear.LinearClassifier at 0x7f6dd34d3a58>"
      ]
     },
     "execution_count": 78,
     "metadata": {},
     "output_type": "execute_result"
    }
   ],
   "source": [
    "classificador.train(input_fn=funcao_treinamento, steps = 10000)"
   ]
  },
  {
   "cell_type": "code",
   "execution_count": null,
   "metadata": {},
   "outputs": [],
   "source": [
    "funcao_previsao = tf.estimator.inputs.pandas_input_fn(x = X_teste, batch_size = 32, shuffle = False)"
   ]
  },
  {
   "cell_type": "code",
   "execution_count": null,
   "metadata": {},
   "outputs": [],
   "source": [
    "previsoes = classificador.predict(input_fn=funcao_previsao)"
   ]
  },
  {
   "cell_type": "code",
   "execution_count": null,
   "metadata": {},
   "outputs": [],
   "source": [
    "list(previsoes)"
   ]
  },
  {
   "cell_type": "code",
   "execution_count": null,
   "metadata": {},
   "outputs": [],
   "source": [
    "previsoes_final = []\n",
    "for p in classificador.predict(input_fn=funcao_previsao):\n",
    "    previsoes_final.append(p['class_ids'])"
   ]
  },
  {
   "cell_type": "code",
   "execution_count": null,
   "metadata": {},
   "outputs": [],
   "source": [
    "previsoes_final"
   ]
  },
  {
   "cell_type": "code",
   "execution_count": null,
   "metadata": {},
   "outputs": [],
   "source": [
    "from sklearn.metrics import accuracy_score\n",
    "taxa_acerto = accuracy_score(y_teste, previsoes_final)\n",
    "taxa_acerto"
   ]
  }
 ],
 "metadata": {
  "kernelspec": {
   "display_name": "Python 3",
   "language": "python",
   "name": "python3"
  },
  "language_info": {
   "codemirror_mode": {
    "name": "ipython",
    "version": 3
   },
   "file_extension": ".py",
   "mimetype": "text/x-python",
   "name": "python",
   "nbconvert_exporter": "python",
   "pygments_lexer": "ipython3",
   "version": "3.6.8"
  }
 },
 "nbformat": 4,
 "nbformat_minor": 2
}
