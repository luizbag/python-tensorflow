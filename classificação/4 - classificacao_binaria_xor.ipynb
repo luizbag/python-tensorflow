{
 "cells": [
  {
   "cell_type": "code",
   "execution_count": 28,
   "metadata": {},
   "outputs": [
    {
     "data": {
      "text/plain": [
       "array([[0, 0],\n",
       "       [0, 1],\n",
       "       [1, 0],\n",
       "       [1, 1]])"
      ]
     },
     "execution_count": 28,
     "metadata": {},
     "output_type": "execute_result"
    }
   ],
   "source": [
    "import tensorflow as tf\n",
    "import numpy as np\n",
    "\n",
    "X = np.array([[0,0], [0,1], [1,0], [1,1]])\n",
    "X"
   ]
  },
  {
   "cell_type": "code",
   "execution_count": 29,
   "metadata": {},
   "outputs": [
    {
     "data": {
      "text/plain": [
       "array([[1],\n",
       "       [0],\n",
       "       [0],\n",
       "       [1]])"
      ]
     },
     "execution_count": 29,
     "metadata": {},
     "output_type": "execute_result"
    }
   ],
   "source": [
    "y = np.array([[1], [0], [0], [1]])\n",
    "y"
   ]
  },
  {
   "cell_type": "code",
   "execution_count": 30,
   "metadata": {},
   "outputs": [],
   "source": [
    "neuronios_entrada = 2\n",
    "neuronios_oculta = 3\n",
    "neuronios_saida = 1"
   ]
  },
  {
   "cell_type": "code",
   "execution_count": 31,
   "metadata": {},
   "outputs": [],
   "source": [
    "W = {'oculta': tf.Variable(tf.random_normal([neuronios_entrada, neuronios_oculta]), name = 'w_oculta'), \n",
    "     'saida': tf.Variable(tf.random_normal([neuronios_oculta, neuronios_saida]), name = 'w_saida')}"
   ]
  },
  {
   "cell_type": "code",
   "execution_count": 32,
   "metadata": {},
   "outputs": [
    {
     "data": {
      "text/plain": [
       "dict"
      ]
     },
     "execution_count": 32,
     "metadata": {},
     "output_type": "execute_result"
    }
   ],
   "source": [
    "type(W)"
   ]
  },
  {
   "cell_type": "code",
   "execution_count": 33,
   "metadata": {},
   "outputs": [
    {
     "data": {
      "text/plain": [
       "tensorflow.python.ops.variables.RefVariable"
      ]
     },
     "execution_count": 33,
     "metadata": {},
     "output_type": "execute_result"
    }
   ],
   "source": [
    "type(W['oculta'])"
   ]
  },
  {
   "cell_type": "code",
   "execution_count": 34,
   "metadata": {},
   "outputs": [
    {
     "data": {
      "text/plain": [
       "<tf.Variable 'w_oculta_2:0' shape=(2, 3) dtype=float32_ref>"
      ]
     },
     "execution_count": 34,
     "metadata": {},
     "output_type": "execute_result"
    }
   ],
   "source": [
    "W['oculta']"
   ]
  },
  {
   "cell_type": "code",
   "execution_count": 35,
   "metadata": {},
   "outputs": [
    {
     "data": {
      "text/plain": [
       "<tf.Variable 'w_saida_2:0' shape=(3, 1) dtype=float32_ref>"
      ]
     },
     "execution_count": 35,
     "metadata": {},
     "output_type": "execute_result"
    }
   ],
   "source": [
    "W['saida']"
   ]
  },
  {
   "cell_type": "code",
   "execution_count": 36,
   "metadata": {},
   "outputs": [
    {
     "data": {
      "text/plain": [
       "<matplotlib.axes._subplots.AxesSubplot at 0x7f7b9c402a90>"
      ]
     },
     "execution_count": 36,
     "metadata": {},
     "output_type": "execute_result"
    },
    {
     "data": {
      "image/png": "[encoded data removed]",
      "text/plain": [
       "<Figure size 432x288 with 1 Axes>"
      ]
     },
     "metadata": {
      "needs_background": "light"
     },
     "output_type": "display_data"
    }
   ],
   "source": [
    "distribuicao = np.random.normal(size = 500)\n",
    "#distribuicao\n",
    "import seaborn as sns\n",
    "%matplotlib inline\n",
    "sns.distplot(distribuicao)"
   ]
  },
  {
   "cell_type": "code",
   "execution_count": 37,
   "metadata": {},
   "outputs": [],
   "source": [
    "b = {'oculta': tf.Variable(tf.random_normal([neuronios_oculta]), name = 'b_oculta'),\n",
    "     'saida': tf.Variable(tf.random_normal([neuronios_saida]), name = 'b_saida')}"
   ]
  },
  {
   "cell_type": "code",
   "execution_count": 38,
   "metadata": {},
   "outputs": [],
   "source": [
    "xph = tf.placeholder(tf.float32, [4, neuronios_entrada], name = 'xph')\n",
    "yph = tf.placeholder(tf.float32, [4, neuronios_saida], name = 'yph')"
   ]
  },
  {
   "cell_type": "code",
   "execution_count": 39,
   "metadata": {},
   "outputs": [],
   "source": [
    "camada_oculta = tf.add(tf.matmul(xph, W['oculta']), b['oculta'])\n",
    "camada_oculta_ativacao = tf.sigmoid(camada_oculta)\n",
    "camada_saida = tf.add(tf.matmul(camada_oculta_ativacao, W['saida']), b['saida'])\n",
    "camada_saida_ativacao = tf.sigmoid(camada_saida)\n",
    "erro = tf.losses.mean_squared_error(yph, camada_saida_ativacao)\n",
    "otimizador = tf.train.GradientDescentOptimizer(learning_rate = 0.3).minimize(erro)"
   ]
  },
  {
   "cell_type": "code",
   "execution_count": 40,
   "metadata": {},
   "outputs": [],
   "source": [
    "init = tf.global_variables_initializer()"
   ]
  },
  {
   "cell_type": "code",
   "execution_count": 41,
   "metadata": {},
   "outputs": [
    {
     "name": "stdout",
     "output_type": "stream",
     "text": [
      "0.07701308280229568\n",
      "0.06483888626098633\n",
      "0.062322068959474564\n",
      "0.06092039868235588\n",
      "0.05843648687005043\n",
      "0.054685819894075394\n",
      "0.04989248886704445\n",
      "0.043891556560993195\n",
      "0.03544321656227112\n",
      "0.024680862203240395\n",
      "0.015253676101565361\n",
      "0.009485100395977497\n",
      "0.006343666464090347\n",
      "0.004566853400319815\n",
      "0.003484062384814024\n",
      "0.0027764635160565376\n",
      "0.002286690752953291\n",
      "0.0019317074911668897\n",
      "0.0016647209413349628\n",
      "0.0014577925903722644\n",
      "0.0012933964608237147\n",
      "0.0011600697180256248\n",
      "0.0010500377975404263\n",
      "0.000957873766310513\n",
      "0.0008796752081252635\n",
      "0.0008125832537189126\n",
      "0.0007544537074863911\n",
      "0.0007036508759483695\n",
      "0.0006589089171029627\n",
      "0.0006192302098497748\n",
      "0.0005838230717927217\n",
      "0.0005520517006516457\n",
      "0.0005233937408775091\n",
      "0.000497426837682724\n",
      "0.00047379470197483897\n",
      "0.0004522048693615943\n",
      "0.0004324096371419728\n",
      "0.00041419832268729806\n",
      "0.00039739219937473536\n",
      "0.0003818392287939787\n",
      "0.0003674048057291657\n",
      "0.0003539769968483597\n",
      "0.0003414561797399074\n",
      "0.00032975414069369435\n",
      "0.0003187951515428722\n",
      "0.0003085133503191173\n",
      "0.0002988464548252523\n",
      "0.00028974420274607837\n",
      "0.0002811574377119541\n",
      "0.00027304748073220253\n"
     ]
    }
   ],
   "source": [
    "with tf.Session() as sess:\n",
    "    sess.run(init)\n",
    "    #print(sess.run(W['oculta']))\n",
    "    #print(sess.run(W['saida']))\n",
    "    #print(sess.run(b['oculta']))\n",
    "    #print('\\n')\n",
    "    #print(sess.run(b['saida']))\n",
    "    #print(sess.run(camada_oculta, feed_dict = {xph: X}))\n",
    "    #print(sess.run(camada_oculta_ativacao, feed_dict = {xph: X}))\n",
    "    #print(sess.run(camada_saida, feed_dict = {xph: X}))\n",
    "    #print(sess.run(camada_saida_ativacao, feed_dict = {xph: X}))\n",
    "    for epocas in range(10000):\n",
    "        erro_medio = 0\n",
    "        _, custo = sess.run([otimizador, erro], feed_dict = {xph: X, yph: y})\n",
    "        if epocas % 200 == 0:\n",
    "            #print(custo)\n",
    "            erro_medio += custo / 4\n",
    "            print(erro_medio)\n",
    "    W_final, b_final = sess.run([W, b])\n",
    "            "
   ]
  },
  {
   "cell_type": "code",
   "execution_count": 42,
   "metadata": {},
   "outputs": [
    {
     "data": {
      "text/plain": [
       "{'oculta': array([[ 4.581804 ,  5.933054 ,  3.4264722],\n",
       "        [-4.2462645, -5.893248 , -3.4115555]], dtype=float32),\n",
       " 'saida': array([[ 5.5926766],\n",
       "        [-8.819599 ],\n",
       "        [ 3.738357 ]], dtype=float32)}"
      ]
     },
     "execution_count": 42,
     "metadata": {},
     "output_type": "execute_result"
    }
   ],
   "source": [
    "W_final"
   ]
  },
  {
   "cell_type": "code",
   "execution_count": 43,
   "metadata": {},
   "outputs": [
    {
     "data": {
      "text/plain": [
       "{'oculta': array([ 2.0908842, -3.224524 ,  1.7616227], dtype=float32),\n",
       " 'saida': array([-4.447132], dtype=float32)}"
      ]
     },
     "execution_count": 43,
     "metadata": {},
     "output_type": "execute_result"
    }
   ],
   "source": [
    "b_final"
   ]
  },
  {
   "cell_type": "code",
   "execution_count": 44,
   "metadata": {},
   "outputs": [],
   "source": [
    "# teste\n",
    "camada_oculta_teste = tf.add(tf.matmul(xph, W_final['oculta']), b_final['oculta'])\n",
    "camada_oculta_ativacao_teste = tf.sigmoid(camada_oculta_teste)\n",
    "camada_saida_teste = tf.add(tf.matmul(camada_oculta_ativacao_teste, W_final['saida']), b_final['saida'])\n",
    "camada_saida_ativacao_teste = tf.sigmoid(camada_saida_teste)"
   ]
  },
  {
   "cell_type": "code",
   "execution_count": 45,
   "metadata": {},
   "outputs": [
    {
     "name": "stdout",
     "output_type": "stream",
     "text": [
      "[[0.96718204]\n",
      " [0.03678815]\n",
      " [0.03190582]\n",
      " [0.97175807]]\n"
     ]
    }
   ],
   "source": [
    "with tf.Session() as sess:\n",
    "    sess.run(init)\n",
    "    print(sess.run(camada_saida_ativacao_teste, feed_dict = {xph: X}))"
   ]
  }
 ],
 "metadata": {
  "kernelspec": {
   "display_name": "Python 3",
   "language": "python",
   "name": "python3"
  },
  "language_info": {
   "codemirror_mode": {
    "name": "ipython",
    "version": 3
   },
   "file_extension": ".py",
   "mimetype": "text/x-python",
   "name": "python",
   "nbconvert_exporter": "python",
   "pygments_lexer": "ipython3",
   "version": "3.6.8"
  }
 },
 "nbformat": 4,
 "nbformat_minor": 2
}
